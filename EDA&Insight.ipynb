{
 "cells": [
  {
   "cell_type": "markdown",
   "id": "6b3a9c3b-dced-4e5d-8934-a2c8812851b6",
   "metadata": {},
   "source": [
    "# 저출산율에 관한 해결방안 분석"
   ]
  },
  {
   "cell_type": "code",
   "execution_count": 62,
   "id": "c85f2c31-ad20-4033-9d01-ff17c0474df4",
   "metadata": {},
   "outputs": [],
   "source": [
    "import pandas as pd\n",
    "import matplotlib.pyplot as plt\n",
    "from scipy.cluster import hierarchy as hc\n",
    "from sklearn.metrics import silhouette_score\n",
    "from sklearn.cluster import AgglomerativeClustering\n",
    "import seaborn as sns\n",
    "import numpy as np\n",
    "import folium"
   ]
  },
  {
   "cell_type": "code",
   "execution_count": 2,
   "id": "0764480f-63d3-41b3-9e34-a2d5b083cdcc",
   "metadata": {},
   "outputs": [],
   "source": [
    "from matplotlib import font_manager as fm\n",
    "nanum_font_path = '/Library/Fonts/NanumGothic.ttf'\n",
    "\n",
    "fm.fontManager.addfont(nanum_font_path)\n",
    "nanum_font = fm.FontProperties(fname=nanum_font_path).get_name()\n",
    "\n",
    "plt.rcParams['font.family'] = nanum_font\n",
    "plt.rcParams['axes.unicode_minus'] = False  "
   ]
  },
  {
   "cell_type": "code",
   "execution_count": 3,
   "id": "e8929707-348f-4b66-9e37-6772ae3f24b3",
   "metadata": {},
   "outputs": [],
   "source": [
    "country_df = pd.read_csv(\"./data/countries.csv\", encoding=\"utf-8\")"
   ]
  },
  {
   "cell_type": "code",
   "execution_count": 4,
   "id": "8f6eb644-13fa-46c3-88f3-7d46f99d44d6",
   "metadata": {},
   "outputs": [],
   "source": [
    "def South_Korea(df,label):\n",
    "    return df[df['country'].str.contains('South Korea')][['country',label]]"
   ]
  },
  {
   "cell_type": "code",
   "execution_count": 5,
   "id": "b554ce79-c58e-477c-9d78-427cfe75278c",
   "metadata": {},
   "outputs": [
    {
     "name": "stdout",
     "output_type": "stream",
     "text": [
      "<class 'pandas.core.frame.DataFrame'>\n",
      "RangeIndex: 167 entries, 0 to 166\n",
      "Data columns (total 15 columns):\n",
      " #   Column      Non-Null Count  Dtype  \n",
      "---  ------      --------------  -----  \n",
      " 0   country     167 non-null    object \n",
      " 1   child_mort  167 non-null    float64\n",
      " 2   exports     167 non-null    float64\n",
      " 3   health      167 non-null    float64\n",
      " 4   imports     167 non-null    float64\n",
      " 5   income      167 non-null    float64\n",
      " 6   inflation   167 non-null    float64\n",
      " 7   life_expec  167 non-null    float64\n",
      " 8   total_fer   167 non-null    float64\n",
      " 9   gdpp        167 non-null    float64\n",
      " 10  region_1    167 non-null    object \n",
      " 11  region_2    66 non-null     object \n",
      " 12  continent   167 non-null    object \n",
      " 13  latitude    167 non-null    float64\n",
      " 14  longitude   167 non-null    float64\n",
      "dtypes: float64(11), object(4)\n",
      "memory usage: 19.7+ KB\n"
     ]
    }
   ],
   "source": [
    "country_df.info()"
   ]
  },
  {
   "cell_type": "code",
   "execution_count": 6,
   "id": "a71c7daf-507e-4ba3-aafc-cefd3e501d1a",
   "metadata": {},
   "outputs": [
    {
     "data": {
      "text/html": [
       "<div>\n",
       "<style scoped>\n",
       "    .dataframe tbody tr th:only-of-type {\n",
       "        vertical-align: middle;\n",
       "    }\n",
       "\n",
       "    .dataframe tbody tr th {\n",
       "        vertical-align: top;\n",
       "    }\n",
       "\n",
       "    .dataframe thead th {\n",
       "        text-align: right;\n",
       "    }\n",
       "</style>\n",
       "<table border=\"1\" class=\"dataframe\">\n",
       "  <thead>\n",
       "    <tr style=\"text-align: right;\">\n",
       "      <th></th>\n",
       "      <th>child_mort</th>\n",
       "      <th>exports</th>\n",
       "      <th>health</th>\n",
       "      <th>imports</th>\n",
       "      <th>income</th>\n",
       "      <th>inflation</th>\n",
       "      <th>life_expec</th>\n",
       "      <th>total_fer</th>\n",
       "      <th>gdpp</th>\n",
       "      <th>latitude</th>\n",
       "      <th>longitude</th>\n",
       "    </tr>\n",
       "  </thead>\n",
       "  <tbody>\n",
       "    <tr>\n",
       "      <th>child_mort</th>\n",
       "      <td>1.000000</td>\n",
       "      <td>-0.318093</td>\n",
       "      <td>-0.200402</td>\n",
       "      <td>-0.127211</td>\n",
       "      <td>-0.524315</td>\n",
       "      <td>0.288276</td>\n",
       "      <td>-0.886676</td>\n",
       "      <td>0.848478</td>\n",
       "      <td>-0.483032</td>\n",
       "      <td>-0.378272</td>\n",
       "      <td>-0.029789</td>\n",
       "    </tr>\n",
       "    <tr>\n",
       "      <th>exports</th>\n",
       "      <td>-0.318093</td>\n",
       "      <td>1.000000</td>\n",
       "      <td>-0.114408</td>\n",
       "      <td>0.737381</td>\n",
       "      <td>0.516784</td>\n",
       "      <td>-0.107294</td>\n",
       "      <td>0.316313</td>\n",
       "      <td>-0.320011</td>\n",
       "      <td>0.418725</td>\n",
       "      <td>0.178595</td>\n",
       "      <td>0.132545</td>\n",
       "    </tr>\n",
       "    <tr>\n",
       "      <th>health</th>\n",
       "      <td>-0.200402</td>\n",
       "      <td>-0.114408</td>\n",
       "      <td>1.000000</td>\n",
       "      <td>0.095717</td>\n",
       "      <td>0.129579</td>\n",
       "      <td>-0.255376</td>\n",
       "      <td>0.210692</td>\n",
       "      <td>-0.196674</td>\n",
       "      <td>0.345966</td>\n",
       "      <td>0.199959</td>\n",
       "      <td>-0.213919</td>\n",
       "    </tr>\n",
       "    <tr>\n",
       "      <th>imports</th>\n",
       "      <td>-0.127211</td>\n",
       "      <td>0.737381</td>\n",
       "      <td>0.095717</td>\n",
       "      <td>1.000000</td>\n",
       "      <td>0.122406</td>\n",
       "      <td>-0.246994</td>\n",
       "      <td>0.054391</td>\n",
       "      <td>-0.159048</td>\n",
       "      <td>0.115498</td>\n",
       "      <td>0.073715</td>\n",
       "      <td>0.031059</td>\n",
       "    </tr>\n",
       "    <tr>\n",
       "      <th>income</th>\n",
       "      <td>-0.524315</td>\n",
       "      <td>0.516784</td>\n",
       "      <td>0.129579</td>\n",
       "      <td>0.122406</td>\n",
       "      <td>1.000000</td>\n",
       "      <td>-0.147756</td>\n",
       "      <td>0.611962</td>\n",
       "      <td>-0.501840</td>\n",
       "      <td>0.895571</td>\n",
       "      <td>0.356402</td>\n",
       "      <td>0.060901</td>\n",
       "    </tr>\n",
       "    <tr>\n",
       "      <th>inflation</th>\n",
       "      <td>0.288276</td>\n",
       "      <td>-0.107294</td>\n",
       "      <td>-0.255376</td>\n",
       "      <td>-0.246994</td>\n",
       "      <td>-0.147756</td>\n",
       "      <td>1.000000</td>\n",
       "      <td>-0.239705</td>\n",
       "      <td>0.316921</td>\n",
       "      <td>-0.221631</td>\n",
       "      <td>-0.143453</td>\n",
       "      <td>0.095680</td>\n",
       "    </tr>\n",
       "    <tr>\n",
       "      <th>life_expec</th>\n",
       "      <td>-0.886676</td>\n",
       "      <td>0.316313</td>\n",
       "      <td>0.210692</td>\n",
       "      <td>0.054391</td>\n",
       "      <td>0.611962</td>\n",
       "      <td>-0.239705</td>\n",
       "      <td>1.000000</td>\n",
       "      <td>-0.760875</td>\n",
       "      <td>0.600089</td>\n",
       "      <td>0.444758</td>\n",
       "      <td>-0.032754</td>\n",
       "    </tr>\n",
       "    <tr>\n",
       "      <th>total_fer</th>\n",
       "      <td>0.848478</td>\n",
       "      <td>-0.320011</td>\n",
       "      <td>-0.196674</td>\n",
       "      <td>-0.159048</td>\n",
       "      <td>-0.501840</td>\n",
       "      <td>0.316921</td>\n",
       "      <td>-0.760875</td>\n",
       "      <td>1.000000</td>\n",
       "      <td>-0.454910</td>\n",
       "      <td>-0.460482</td>\n",
       "      <td>-0.034355</td>\n",
       "    </tr>\n",
       "    <tr>\n",
       "      <th>gdpp</th>\n",
       "      <td>-0.483032</td>\n",
       "      <td>0.418725</td>\n",
       "      <td>0.345966</td>\n",
       "      <td>0.115498</td>\n",
       "      <td>0.895571</td>\n",
       "      <td>-0.221631</td>\n",
       "      <td>0.600089</td>\n",
       "      <td>-0.454910</td>\n",
       "      <td>1.000000</td>\n",
       "      <td>0.400823</td>\n",
       "      <td>-0.002808</td>\n",
       "    </tr>\n",
       "    <tr>\n",
       "      <th>latitude</th>\n",
       "      <td>-0.378272</td>\n",
       "      <td>0.178595</td>\n",
       "      <td>0.199959</td>\n",
       "      <td>0.073715</td>\n",
       "      <td>0.356402</td>\n",
       "      <td>-0.143453</td>\n",
       "      <td>0.444758</td>\n",
       "      <td>-0.460482</td>\n",
       "      <td>0.400823</td>\n",
       "      <td>1.000000</td>\n",
       "      <td>0.066513</td>\n",
       "    </tr>\n",
       "    <tr>\n",
       "      <th>longitude</th>\n",
       "      <td>-0.029789</td>\n",
       "      <td>0.132545</td>\n",
       "      <td>-0.213919</td>\n",
       "      <td>0.031059</td>\n",
       "      <td>0.060901</td>\n",
       "      <td>0.095680</td>\n",
       "      <td>-0.032754</td>\n",
       "      <td>-0.034355</td>\n",
       "      <td>-0.002808</td>\n",
       "      <td>0.066513</td>\n",
       "      <td>1.000000</td>\n",
       "    </tr>\n",
       "  </tbody>\n",
       "</table>\n",
       "</div>"
      ],
      "text/plain": [
       "            child_mort   exports    health   imports    income  inflation  \\\n",
       "child_mort    1.000000 -0.318093 -0.200402 -0.127211 -0.524315   0.288276   \n",
       "exports      -0.318093  1.000000 -0.114408  0.737381  0.516784  -0.107294   \n",
       "health       -0.200402 -0.114408  1.000000  0.095717  0.129579  -0.255376   \n",
       "imports      -0.127211  0.737381  0.095717  1.000000  0.122406  -0.246994   \n",
       "income       -0.524315  0.516784  0.129579  0.122406  1.000000  -0.147756   \n",
       "inflation     0.288276 -0.107294 -0.255376 -0.246994 -0.147756   1.000000   \n",
       "life_expec   -0.886676  0.316313  0.210692  0.054391  0.611962  -0.239705   \n",
       "total_fer     0.848478 -0.320011 -0.196674 -0.159048 -0.501840   0.316921   \n",
       "gdpp         -0.483032  0.418725  0.345966  0.115498  0.895571  -0.221631   \n",
       "latitude     -0.378272  0.178595  0.199959  0.073715  0.356402  -0.143453   \n",
       "longitude    -0.029789  0.132545 -0.213919  0.031059  0.060901   0.095680   \n",
       "\n",
       "            life_expec  total_fer      gdpp  latitude  longitude  \n",
       "child_mort   -0.886676   0.848478 -0.483032 -0.378272  -0.029789  \n",
       "exports       0.316313  -0.320011  0.418725  0.178595   0.132545  \n",
       "health        0.210692  -0.196674  0.345966  0.199959  -0.213919  \n",
       "imports       0.054391  -0.159048  0.115498  0.073715   0.031059  \n",
       "income        0.611962  -0.501840  0.895571  0.356402   0.060901  \n",
       "inflation    -0.239705   0.316921 -0.221631 -0.143453   0.095680  \n",
       "life_expec    1.000000  -0.760875  0.600089  0.444758  -0.032754  \n",
       "total_fer    -0.760875   1.000000 -0.454910 -0.460482  -0.034355  \n",
       "gdpp          0.600089  -0.454910  1.000000  0.400823  -0.002808  \n",
       "latitude      0.444758  -0.460482  0.400823  1.000000   0.066513  \n",
       "longitude    -0.032754  -0.034355 -0.002808  0.066513   1.000000  "
      ]
     },
     "execution_count": 6,
     "metadata": {},
     "output_type": "execute_result"
    }
   ],
   "source": [
    "country_df.corr(numeric_only=True)"
   ]
  },
  {
   "cell_type": "markdown",
   "id": "a8fec82b-e77f-4bba-b829-784bb812de91",
   "metadata": {},
   "source": [
    "# child_mort과, total_fer, life_expec을 기준으로 군집화"
   ]
  },
  {
   "cell_type": "code",
   "execution_count": 7,
   "id": "28af1e8e-a620-433f-8e57-9ca84d340eba",
   "metadata": {},
   "outputs": [
    {
     "data": {
      "text/html": [
       "<div>\n",
       "<style scoped>\n",
       "    .dataframe tbody tr th:only-of-type {\n",
       "        vertical-align: middle;\n",
       "    }\n",
       "\n",
       "    .dataframe tbody tr th {\n",
       "        vertical-align: top;\n",
       "    }\n",
       "\n",
       "    .dataframe thead th {\n",
       "        text-align: right;\n",
       "    }\n",
       "</style>\n",
       "<table border=\"1\" class=\"dataframe\">\n",
       "  <thead>\n",
       "    <tr style=\"text-align: right;\">\n",
       "      <th></th>\n",
       "      <th>child_mort</th>\n",
       "      <th>total_fer</th>\n",
       "      <th>life_expec</th>\n",
       "    </tr>\n",
       "  </thead>\n",
       "  <tbody>\n",
       "    <tr>\n",
       "      <th>child_mort</th>\n",
       "      <td>1.000000</td>\n",
       "      <td>0.848478</td>\n",
       "      <td>-0.886676</td>\n",
       "    </tr>\n",
       "    <tr>\n",
       "      <th>total_fer</th>\n",
       "      <td>0.848478</td>\n",
       "      <td>1.000000</td>\n",
       "      <td>-0.760875</td>\n",
       "    </tr>\n",
       "    <tr>\n",
       "      <th>life_expec</th>\n",
       "      <td>-0.886676</td>\n",
       "      <td>-0.760875</td>\n",
       "      <td>1.000000</td>\n",
       "    </tr>\n",
       "  </tbody>\n",
       "</table>\n",
       "</div>"
      ],
      "text/plain": [
       "            child_mort  total_fer  life_expec\n",
       "child_mort    1.000000   0.848478   -0.886676\n",
       "total_fer     0.848478   1.000000   -0.760875\n",
       "life_expec   -0.886676  -0.760875    1.000000"
      ]
     },
     "execution_count": 7,
     "metadata": {},
     "output_type": "execute_result"
    }
   ],
   "source": [
    "country_df[[\"child_mort\",\"total_fer\",\"life_expec\"]].corr()"
   ]
  },
  {
   "cell_type": "code",
   "execution_count": 8,
   "id": "54824ef6-9b6e-4ae1-9c20-64c82a422eaa",
   "metadata": {},
   "outputs": [
    {
     "data": {
      "text/plain": [
       "<Axes: >"
      ]
     },
     "execution_count": 8,
     "metadata": {},
     "output_type": "execute_result"
    },
    {
     "data": {
      "image/png": "[encoded data removed]",
      "text/plain": [
       "<Figure size 640x480 with 2 Axes>"
      ]
     },
     "metadata": {},
     "output_type": "display_data"
    }
   ],
   "source": [
    "cmap = sns.diverging_palette(240, 10, n = 9, as_cmap = True)\n",
    "sns.heatmap(\n",
    "    country_df[[\"child_mort\",\"total_fer\",\"life_expec\"]].corr(),\n",
    "    annot = True,\n",
    "    fmt = \".2f\",\n",
    "    cmap = cmap)"
   ]
  },
  {
   "cell_type": "code",
   "execution_count": 9,
   "id": "614344f1-ada9-44a0-bd7e-d91cc3a9e5ef",
   "metadata": {},
   "outputs": [
    {
     "data": {
      "text/html": [
       "<div>\n",
       "<style scoped>\n",
       "    .dataframe tbody tr th:only-of-type {\n",
       "        vertical-align: middle;\n",
       "    }\n",
       "\n",
       "    .dataframe tbody tr th {\n",
       "        vertical-align: top;\n",
       "    }\n",
       "\n",
       "    .dataframe thead th {\n",
       "        text-align: right;\n",
       "    }\n",
       "</style>\n",
       "<table border=\"1\" class=\"dataframe\">\n",
       "  <thead>\n",
       "    <tr style=\"text-align: right;\">\n",
       "      <th></th>\n",
       "      <th>child_mort</th>\n",
       "      <th>total_fer</th>\n",
       "      <th>life_expec</th>\n",
       "      <th>income</th>\n",
       "      <th>gdpp</th>\n",
       "    </tr>\n",
       "  </thead>\n",
       "  <tbody>\n",
       "    <tr>\n",
       "      <th>child_mort</th>\n",
       "      <td>1.000000</td>\n",
       "      <td>0.848478</td>\n",
       "      <td>-0.886676</td>\n",
       "      <td>-0.524315</td>\n",
       "      <td>-0.483032</td>\n",
       "    </tr>\n",
       "    <tr>\n",
       "      <th>total_fer</th>\n",
       "      <td>0.848478</td>\n",
       "      <td>1.000000</td>\n",
       "      <td>-0.760875</td>\n",
       "      <td>-0.501840</td>\n",
       "      <td>-0.454910</td>\n",
       "    </tr>\n",
       "    <tr>\n",
       "      <th>life_expec</th>\n",
       "      <td>-0.886676</td>\n",
       "      <td>-0.760875</td>\n",
       "      <td>1.000000</td>\n",
       "      <td>0.611962</td>\n",
       "      <td>0.600089</td>\n",
       "    </tr>\n",
       "    <tr>\n",
       "      <th>income</th>\n",
       "      <td>-0.524315</td>\n",
       "      <td>-0.501840</td>\n",
       "      <td>0.611962</td>\n",
       "      <td>1.000000</td>\n",
       "      <td>0.895571</td>\n",
       "    </tr>\n",
       "    <tr>\n",
       "      <th>gdpp</th>\n",
       "      <td>-0.483032</td>\n",
       "      <td>-0.454910</td>\n",
       "      <td>0.600089</td>\n",
       "      <td>0.895571</td>\n",
       "      <td>1.000000</td>\n",
       "    </tr>\n",
       "  </tbody>\n",
       "</table>\n",
       "</div>"
      ],
      "text/plain": [
       "            child_mort  total_fer  life_expec    income      gdpp\n",
       "child_mort    1.000000   0.848478   -0.886676 -0.524315 -0.483032\n",
       "total_fer     0.848478   1.000000   -0.760875 -0.501840 -0.454910\n",
       "life_expec   -0.886676  -0.760875    1.000000  0.611962  0.600089\n",
       "income       -0.524315  -0.501840    0.611962  1.000000  0.895571\n",
       "gdpp         -0.483032  -0.454910    0.600089  0.895571  1.000000"
      ]
     },
     "execution_count": 9,
     "metadata": {},
     "output_type": "execute_result"
    }
   ],
   "source": [
    "country_df[[\"child_mort\",\"total_fer\",\"life_expec\",\"income\",\"gdpp\"]].corr()"
   ]
  },
  {
   "cell_type": "code",
   "execution_count": 10,
   "id": "5d93c06a-063c-4a86-b6e7-cee4fdef6927",
   "metadata": {},
   "outputs": [
    {
     "data": {
      "text/plain": [
       "<Axes: >"
      ]
     },
     "execution_count": 10,
     "metadata": {},
     "output_type": "execute_result"
    },
    {
     "data": {
      "image/png": "[encoded data removed]",
      "text/plain": [
       "<Figure size 640x480 with 2 Axes>"
      ]
     },
     "metadata": {},
     "output_type": "display_data"
    }
   ],
   "source": [
    "cmap = sns.diverging_palette(240, 10, n = 9, as_cmap = True)\n",
    "sns.heatmap(\n",
    "    country_df[[\"child_mort\",\"total_fer\",\"life_expec\",\"income\",\"gdpp\"]].corr(),\n",
    "    annot = True,\n",
    "    fmt = \".2f\",\n",
    "    cmap = cmap)"
   ]
  },
  {
   "cell_type": "code",
   "execution_count": 11,
   "id": "4fe8862a-7cb3-48bd-b272-b3961034c9fb",
   "metadata": {},
   "outputs": [
    {
     "data": {
      "text/plain": [
       "Text(0.5, 1.0, 'child_mort와 total_fer의 상관관계')"
      ]
     },
     "execution_count": 11,
     "metadata": {},
     "output_type": "execute_result"
    },
    {
     "data": {
      "image/png": "[encoded data removed]",
      "text/plain": [
       "<Figure size 640x480 with 1 Axes>"
      ]
     },
     "metadata": {},
     "output_type": "display_data"
    }
   ],
   "source": [
    "country_df.plot(\n",
    "    kind=\"scatter\",\n",
    "    x=\"child_mort\",\n",
    "    y=\"total_fer\")\n",
    "plt.title(\"child_mort와 total_fer의 상관관계\")"
   ]
  },
  {
   "cell_type": "code",
   "execution_count": 12,
   "id": "ed08ff8d-e1dc-4bdd-a29b-5739937d069e",
   "metadata": {},
   "outputs": [
    {
     "data": {
      "text/plain": [
       "Text(0.5, 1.0, 'child_mort와 life_expec의 상관관계')"
      ]
     },
     "execution_count": 12,
     "metadata": {},
     "output_type": "execute_result"
    },
    {
     "data": {
      "image/png": "[encoded data removed]",
      "text/plain": [
       "<Figure size 640x480 with 1 Axes>"
      ]
     },
     "metadata": {},
     "output_type": "display_data"
    }
   ],
   "source": [
    "country_df.plot(\n",
    "    kind=\"scatter\",\n",
    "    x=\"child_mort\",\n",
    "    y=\"life_expec\")\n",
    "plt.title(\"child_mort와 life_expec의 상관관계\")"
   ]
  },
  {
   "cell_type": "code",
   "execution_count": 13,
   "id": "5841f544-f308-49c7-88c6-e955bdbdb329",
   "metadata": {},
   "outputs": [
    {
     "data": {
      "text/plain": [
       "Text(0.5, 1.0, 'total_fer과 life_expec의 상관관계')"
      ]
     },
     "execution_count": 13,
     "metadata": {},
     "output_type": "execute_result"
    },
    {
     "data": {
      "image/png": "[encoded data removed]",
      "text/plain": [
       "<Figure size 640x480 with 1 Axes>"
      ]
     },
     "metadata": {},
     "output_type": "display_data"
    }
   ],
   "source": [
    "country_df.plot(\n",
    "    kind=\"scatter\",\n",
    "    x=\"total_fer\",\n",
    "    y=\"life_expec\")\n",
    "plt.title(\"total_fer과 life_expec의 상관관계\")"
   ]
  },
  {
   "cell_type": "code",
   "execution_count": 14,
   "id": "893e2b6a-6596-4479-a92d-167cbd16a676",
   "metadata": {},
   "outputs": [],
   "source": [
    "child_col = country_df[[\"child_mort\",\"total_fer\",\"life_expec\"]].reset_index(drop=True)"
   ]
  },
  {
   "cell_type": "code",
   "execution_count": 15,
   "id": "679f89f1-107b-466a-b368-86a083c68490",
   "metadata": {},
   "outputs": [
    {
     "data": {
      "text/plain": [
       "Text(0.5, 1.0, 'child_mort, total_fer, life_expec기준 dendrogram')"
      ]
     },
     "execution_count": 15,
     "metadata": {},
     "output_type": "execute_result"
    },
    {
     "data": {
      "image/png": "[encoded data removed]",
      "text/plain": [
       "<Figure size 1800x600 with 1 Axes>"
      ]
     },
     "metadata": {},
     "output_type": "display_data"
    }
   ],
   "source": [
    "plt.figure(figsize=(18,6))\n",
    "_=hc.dendrogram(\n",
    "    hc.linkage(child_col, method=\"ward\"))\n",
    "plt.title(\"child_mort, total_fer, life_expec기준 dendrogram\")"
   ]
  },
  {
   "cell_type": "code",
   "execution_count": 16,
   "id": "b6408e5d-afd0-491a-9120-e9cac1e83dc1",
   "metadata": {},
   "outputs": [],
   "source": [
    "silhouette_scores = []\n",
    "for i in range(2, 8):\n",
    "    silhouette_scores.append(\n",
    "        silhouette_score(child_col, AgglomerativeClustering(n_clusters = i).fit_predict(child_col)))"
   ]
  },
  {
   "cell_type": "code",
   "execution_count": 17,
   "id": "a278a6a0-8e68-4f8a-a36b-182709191ec6",
   "metadata": {},
   "outputs": [
    {
     "data": {
      "text/plain": [
       "Text(0, 0.5, '실루엣 계수')"
      ]
     },
     "execution_count": 17,
     "metadata": {},
     "output_type": "execute_result"
    },
    {
     "data": {
      "image/png": "[encoded data removed]",
      "text/plain": [
       "<Figure size 640x480 with 1 Axes>"
      ]
     },
     "metadata": {},
     "output_type": "display_data"
    }
   ],
   "source": [
    "plt.bar(range(2,8), silhouette_scores, color=\"blue\")\n",
    "plt.title(\"클러스터 개수별 실루엣 계수\")\n",
    "plt.xlabel(\"클러스터 개수\")\n",
    "plt.ylabel(\"실루엣 계수\")"
   ]
  },
  {
   "cell_type": "code",
   "execution_count": 18,
   "id": "33fceaa1-c8b4-448d-a6db-f6e9cd503587",
   "metadata": {},
   "outputs": [],
   "source": [
    "model = AgglomerativeClustering(n_clusters=2, metric=\"euclidean\", linkage =\"ward\")\n",
    "country_df[\"label_child\"] = model.fit_predict(child_col)"
   ]
  },
  {
   "cell_type": "code",
   "execution_count": 19,
   "id": "9c6ebebc-5ac0-434a-816e-a7d54254cd9d",
   "metadata": {},
   "outputs": [
    {
     "name": "stderr",
     "output_type": "stream",
     "text": [
      "/var/folders/yd/plqzt5cj0m5blbgycq9b7d_40000gn/T/ipykernel_5145/1062918170.py:3: FutureWarning: \n",
      "\n",
      "Passing `palette` without assigning `hue` is deprecated and will be removed in v0.14.0. Assign the `x` variable to `hue` and set `legend=False` for the same effect.\n",
      "\n",
      "  sns.violinplot(\n"
     ]
    },
    {
     "data": {
      "text/plain": [
       "Text(0.5, 1.0, 'label_child별 total_fer')"
      ]
     },
     "execution_count": 19,
     "metadata": {},
     "output_type": "execute_result"
    },
    {
     "data": {
      "image/png": "[encoded data removed]",
      "text/plain": [
       "<Figure size 640x480 with 1 Axes>"
      ]
     },
     "metadata": {},
     "output_type": "display_data"
    }
   ],
   "source": [
    "unique_labels = country_df[\"label_child\"].unique()\n",
    "palette = sns.color_palette(\"husl\", len(unique_labels))\n",
    "sns.violinplot(\n",
    "    x = \"label_child\",\n",
    "    y = \"total_fer\",\n",
    "    data = country_df,\n",
    "    palette = palette)\n",
    "plt.axhline(1.23, color = \"red\", linestyle = \"--\", label = \"South Korea\")\n",
    "plt.legend()\n",
    "plt.title(\"label_child별 total_fer\")"
   ]
  },
  {
   "cell_type": "code",
   "execution_count": 20,
   "id": "77392522-9d3a-4193-8793-7609ec45f90a",
   "metadata": {},
   "outputs": [
    {
     "data": {
      "text/html": [
       "<div>\n",
       "<style scoped>\n",
       "    .dataframe tbody tr th:only-of-type {\n",
       "        vertical-align: middle;\n",
       "    }\n",
       "\n",
       "    .dataframe tbody tr th {\n",
       "        vertical-align: top;\n",
       "    }\n",
       "\n",
       "    .dataframe thead tr th {\n",
       "        text-align: left;\n",
       "    }\n",
       "\n",
       "    .dataframe thead tr:last-of-type th {\n",
       "        text-align: right;\n",
       "    }\n",
       "</style>\n",
       "<table border=\"1\" class=\"dataframe\">\n",
       "  <thead>\n",
       "    <tr>\n",
       "      <th></th>\n",
       "      <th colspan=\"8\" halign=\"left\">total_fer</th>\n",
       "    </tr>\n",
       "    <tr>\n",
       "      <th></th>\n",
       "      <th>count</th>\n",
       "      <th>mean</th>\n",
       "      <th>std</th>\n",
       "      <th>min</th>\n",
       "      <th>25%</th>\n",
       "      <th>50%</th>\n",
       "      <th>75%</th>\n",
       "      <th>max</th>\n",
       "    </tr>\n",
       "    <tr>\n",
       "      <th>label_child</th>\n",
       "      <th></th>\n",
       "      <th></th>\n",
       "      <th></th>\n",
       "      <th></th>\n",
       "      <th></th>\n",
       "      <th></th>\n",
       "      <th></th>\n",
       "      <th></th>\n",
       "    </tr>\n",
       "  </thead>\n",
       "  <tbody>\n",
       "    <tr>\n",
       "      <th>0</th>\n",
       "      <td>134.0</td>\n",
       "      <td>2.369254</td>\n",
       "      <td>0.963958</td>\n",
       "      <td>1.15</td>\n",
       "      <td>1.63</td>\n",
       "      <td>2.145</td>\n",
       "      <td>2.67</td>\n",
       "      <td>6.23</td>\n",
       "    </tr>\n",
       "    <tr>\n",
       "      <th>1</th>\n",
       "      <td>33.0</td>\n",
       "      <td>5.297879</td>\n",
       "      <td>0.963972</td>\n",
       "      <td>3.15</td>\n",
       "      <td>4.98</td>\n",
       "      <td>5.310</td>\n",
       "      <td>5.84</td>\n",
       "      <td>7.49</td>\n",
       "    </tr>\n",
       "  </tbody>\n",
       "</table>\n",
       "</div>"
      ],
      "text/plain": [
       "            total_fer                                                   \n",
       "                count      mean       std   min   25%    50%   75%   max\n",
       "label_child                                                             \n",
       "0               134.0  2.369254  0.963958  1.15  1.63  2.145  2.67  6.23\n",
       "1                33.0  5.297879  0.963972  3.15  4.98  5.310  5.84  7.49"
      ]
     },
     "execution_count": 20,
     "metadata": {},
     "output_type": "execute_result"
    }
   ],
   "source": [
    "country_df.groupby('label_child')[['total_fer']].describe()"
   ]
  },
  {
   "cell_type": "markdown",
   "id": "4a4e9546-1c3a-4775-a697-5b48a67f960d",
   "metadata": {},
   "source": [
    "#### 현재 연령별 출산율이 유지 된다고 가정했을 때 각 여성 당 출산될 아이의 수\n",
    "label_baby0의 경우 평균 2.3명\n",
    "\n",
    "label_baby1의 경우 평균 5.2명으로 확인됨"
   ]
  },
  {
   "cell_type": "code",
   "execution_count": 21,
   "id": "498c3311-7247-41db-be37-69b27f3b0789",
   "metadata": {},
   "outputs": [
    {
     "name": "stderr",
     "output_type": "stream",
     "text": [
      "/var/folders/yd/plqzt5cj0m5blbgycq9b7d_40000gn/T/ipykernel_5145/2131915831.py:3: FutureWarning: \n",
      "\n",
      "Passing `palette` without assigning `hue` is deprecated and will be removed in v0.14.0. Assign the `x` variable to `hue` and set `legend=False` for the same effect.\n",
      "\n",
      "  sns.violinplot(\n"
     ]
    },
    {
     "data": {
      "text/plain": [
       "<matplotlib.legend.Legend at 0x175816890>"
      ]
     },
     "execution_count": 21,
     "metadata": {},
     "output_type": "execute_result"
    },
    {
     "data": {
      "image/png": "[encoded data removed]",
      "text/plain": [
       "<Figure size 640x480 with 1 Axes>"
      ]
     },
     "metadata": {},
     "output_type": "display_data"
    }
   ],
   "source": [
    "unique_labels = country_df[\"label_child\"].unique()\n",
    "palette = sns.color_palette(\"husl\", len(unique_labels))\n",
    "sns.violinplot(\n",
    "    x = \"label_child\",\n",
    "    y = \"life_expec\",\n",
    "    data = country_df,\n",
    "    palette = palette)\n",
    "plt.axhline(80.1, color = \"red\", linestyle = \"--\", label = \"South Korea\")\n",
    "plt.legend()"
   ]
  },
  {
   "cell_type": "code",
   "execution_count": 22,
   "id": "f4b085b8-9b82-464d-a90c-901c2ff3393d",
   "metadata": {},
   "outputs": [
    {
     "data": {
      "text/html": [
       "<div>\n",
       "<style scoped>\n",
       "    .dataframe tbody tr th:only-of-type {\n",
       "        vertical-align: middle;\n",
       "    }\n",
       "\n",
       "    .dataframe tbody tr th {\n",
       "        vertical-align: top;\n",
       "    }\n",
       "\n",
       "    .dataframe thead th {\n",
       "        text-align: right;\n",
       "    }\n",
       "</style>\n",
       "<table border=\"1\" class=\"dataframe\">\n",
       "  <thead>\n",
       "    <tr style=\"text-align: right;\">\n",
       "      <th></th>\n",
       "      <th>count</th>\n",
       "      <th>mean</th>\n",
       "      <th>std</th>\n",
       "      <th>min</th>\n",
       "      <th>25%</th>\n",
       "      <th>50%</th>\n",
       "      <th>75%</th>\n",
       "      <th>max</th>\n",
       "    </tr>\n",
       "    <tr>\n",
       "      <th>label_child</th>\n",
       "      <th></th>\n",
       "      <th></th>\n",
       "      <th></th>\n",
       "      <th></th>\n",
       "      <th></th>\n",
       "      <th></th>\n",
       "      <th></th>\n",
       "      <th></th>\n",
       "    </tr>\n",
       "  </thead>\n",
       "  <tbody>\n",
       "    <tr>\n",
       "      <th>0</th>\n",
       "      <td>134.0</td>\n",
       "      <td>73.691791</td>\n",
       "      <td>6.135537</td>\n",
       "      <td>54.3</td>\n",
       "      <td>70.0</td>\n",
       "      <td>74.55</td>\n",
       "      <td>78.2</td>\n",
       "      <td>82.8</td>\n",
       "    </tr>\n",
       "    <tr>\n",
       "      <th>1</th>\n",
       "      <td>33.0</td>\n",
       "      <td>57.821212</td>\n",
       "      <td>6.737292</td>\n",
       "      <td>32.1</td>\n",
       "      <td>56.2</td>\n",
       "      <td>58.00</td>\n",
       "      <td>60.9</td>\n",
       "      <td>68.2</td>\n",
       "    </tr>\n",
       "  </tbody>\n",
       "</table>\n",
       "</div>"
      ],
      "text/plain": [
       "             count       mean       std   min   25%    50%   75%   max\n",
       "label_child                                                           \n",
       "0            134.0  73.691791  6.135537  54.3  70.0  74.55  78.2  82.8\n",
       "1             33.0  57.821212  6.737292  32.1  56.2  58.00  60.9  68.2"
      ]
     },
     "execution_count": 22,
     "metadata": {},
     "output_type": "execute_result"
    }
   ],
   "source": [
    "country_df.groupby('label_child')['life_expec'].describe()"
   ]
  },
  {
   "cell_type": "markdown",
   "id": "b270dacd-4a71-4d84-9a7f-dee4b248cb91",
   "metadata": {},
   "source": [
    "#### 현재 사망률이 유지된다고 했을 때 신생아의 평균 수명\n",
    "label_baby0의 경우 평균 54세, 50%가 74.55세 이하이었고 많았고\n",
    "\n",
    "label_baby1의 경우 평균 32.1세, 50%가 58세 이하였다."
   ]
  },
  {
   "cell_type": "code",
   "execution_count": 23,
   "id": "27ed53dc-1d35-42ee-9ec9-e37f5125e29b",
   "metadata": {},
   "outputs": [
    {
     "data": {
      "text/html": [
       "<div>\n",
       "<style scoped>\n",
       "    .dataframe tbody tr th:only-of-type {\n",
       "        vertical-align: middle;\n",
       "    }\n",
       "\n",
       "    .dataframe tbody tr th {\n",
       "        vertical-align: top;\n",
       "    }\n",
       "\n",
       "    .dataframe thead th {\n",
       "        text-align: right;\n",
       "    }\n",
       "</style>\n",
       "<table border=\"1\" class=\"dataframe\">\n",
       "  <thead>\n",
       "    <tr style=\"text-align: right;\">\n",
       "      <th></th>\n",
       "      <th>country</th>\n",
       "      <th>child_mort</th>\n",
       "    </tr>\n",
       "  </thead>\n",
       "  <tbody>\n",
       "    <tr>\n",
       "      <th>138</th>\n",
       "      <td>South Korea</td>\n",
       "      <td>4.1</td>\n",
       "    </tr>\n",
       "  </tbody>\n",
       "</table>\n",
       "</div>"
      ],
      "text/plain": [
       "         country  child_mort\n",
       "138  South Korea         4.1"
      ]
     },
     "execution_count": 23,
     "metadata": {},
     "output_type": "execute_result"
    }
   ],
   "source": [
    "South_Korea(country_df, \"child_mort\")"
   ]
  },
  {
   "cell_type": "code",
   "execution_count": 24,
   "id": "f6f30f5d-0ac8-4d9b-ba36-01628ed3e964",
   "metadata": {},
   "outputs": [
    {
     "name": "stderr",
     "output_type": "stream",
     "text": [
      "/var/folders/yd/plqzt5cj0m5blbgycq9b7d_40000gn/T/ipykernel_5145/2640131054.py:3: FutureWarning: \n",
      "\n",
      "Passing `palette` without assigning `hue` is deprecated and will be removed in v0.14.0. Assign the `x` variable to `hue` and set `legend=False` for the same effect.\n",
      "\n",
      "  sns.violinplot(\n"
     ]
    },
    {
     "data": {
      "text/plain": [
       "<matplotlib.legend.Legend at 0x177a5a810>"
      ]
     },
     "execution_count": 24,
     "metadata": {},
     "output_type": "execute_result"
    },
    {
     "data": {
      "image/png": "[encoded data removed]",
      "text/plain": [
       "<Figure size 640x480 with 1 Axes>"
      ]
     },
     "metadata": {},
     "output_type": "display_data"
    }
   ],
   "source": [
    "unique_labels = country_df[\"label_child\"].unique()\n",
    "palette = sns.color_palette(\"husl\", len(unique_labels))\n",
    "sns.violinplot(\n",
    "    x = \"label_child\",\n",
    "    y = \"child_mort\",\n",
    "    data = country_df,\n",
    "    palette = palette)\n",
    "plt.axhline(4.1, color = \"red\", linestyle = \"--\", label = \"South Korea\")\n",
    "plt.legend()"
   ]
  },
  {
   "cell_type": "markdown",
   "id": "9fa372a9-871f-4117-a011-eae831082a90",
   "metadata": {},
   "source": [
    "#### 1000명당 아동 사망률은\n",
    "label_baby0이 0~50명사이\n",
    "\n",
    "label_baby1이 50~150명 사이가 많았다"
   ]
  },
  {
   "cell_type": "markdown",
   "id": "a7d51aa0-d117-4c58-8b6f-0dbbf6e21037",
   "metadata": {},
   "source": [
    "### 한국은 아동사망률과 출산율이 낮고 기대수명이 높은 label_baby 0국가에 속한 것으로 확인되었다"
   ]
  },
  {
   "cell_type": "markdown",
   "id": "fa214833-06a8-465f-9b91-9cb508827d49",
   "metadata": {},
   "source": [
    "### 개인 gdpp와 income과 label_baby와의 관계"
   ]
  },
  {
   "cell_type": "code",
   "execution_count": 25,
   "id": "2ff7867b-a793-4278-94f7-b729d9e43ca6",
   "metadata": {},
   "outputs": [
    {
     "data": {
      "text/plain": [
       "Text(0.5, 1.0, 'gdpp 히스토그램')"
      ]
     },
     "execution_count": 25,
     "metadata": {},
     "output_type": "execute_result"
    },
    {
     "data": {
      "image/png": "[encoded data removed]",
      "text/plain": [
       "<Figure size 640x480 with 1 Axes>"
      ]
     },
     "metadata": {},
     "output_type": "display_data"
    }
   ],
   "source": [
    "country_df[\"gdpp\"].hist()\n",
    "plt.title(\"gdpp 히스토그램\")"
   ]
  },
  {
   "cell_type": "code",
   "execution_count": 26,
   "id": "2bf7fe77-8d18-4f3d-afbd-b7c4c75effb6",
   "metadata": {},
   "outputs": [],
   "source": [
    "country_df[\"log_gdpp\"] = np.log(country_df['gdpp'])"
   ]
  },
  {
   "cell_type": "code",
   "execution_count": 27,
   "id": "60ca93df-2e23-4852-a119-6f64af4f6b55",
   "metadata": {},
   "outputs": [
    {
     "data": {
      "text/plain": [
       "Text(0.5, 1.0, '로그화한 gdpp')"
      ]
     },
     "execution_count": 27,
     "metadata": {},
     "output_type": "execute_result"
    },
    {
     "data": {
      "image/png": "[encoded data removed]",
      "text/plain": [
       "<Figure size 640x480 with 1 Axes>"
      ]
     },
     "metadata": {},
     "output_type": "display_data"
    }
   ],
   "source": [
    "country_df[\"log_gdpp\"].hist()\n",
    "plt.title(\"로그화한 gdpp\")"
   ]
  },
  {
   "cell_type": "code",
   "execution_count": 28,
   "id": "ab5e55b7-6d4f-456d-a272-cda0977ac4c2",
   "metadata": {},
   "outputs": [
    {
     "data": {
      "text/html": [
       "<div>\n",
       "<style scoped>\n",
       "    .dataframe tbody tr th:only-of-type {\n",
       "        vertical-align: middle;\n",
       "    }\n",
       "\n",
       "    .dataframe tbody tr th {\n",
       "        vertical-align: top;\n",
       "    }\n",
       "\n",
       "    .dataframe thead th {\n",
       "        text-align: right;\n",
       "    }\n",
       "</style>\n",
       "<table border=\"1\" class=\"dataframe\">\n",
       "  <thead>\n",
       "    <tr style=\"text-align: right;\">\n",
       "      <th></th>\n",
       "      <th>country</th>\n",
       "      <th>log_gdpp</th>\n",
       "    </tr>\n",
       "  </thead>\n",
       "  <tbody>\n",
       "    <tr>\n",
       "      <th>138</th>\n",
       "      <td>South Korea</td>\n",
       "      <td>10.003333</td>\n",
       "    </tr>\n",
       "  </tbody>\n",
       "</table>\n",
       "</div>"
      ],
      "text/plain": [
       "         country   log_gdpp\n",
       "138  South Korea  10.003333"
      ]
     },
     "execution_count": 28,
     "metadata": {},
     "output_type": "execute_result"
    }
   ],
   "source": [
    "South_Korea(country_df, \"log_gdpp\")"
   ]
  },
  {
   "cell_type": "code",
   "execution_count": 29,
   "id": "3510aad7-4727-4609-ab8f-e5fdc6ce5c73",
   "metadata": {},
   "outputs": [
    {
     "name": "stderr",
     "output_type": "stream",
     "text": [
      "/var/folders/yd/plqzt5cj0m5blbgycq9b7d_40000gn/T/ipykernel_5145/1655598562.py:3: FutureWarning: \n",
      "\n",
      "Passing `palette` without assigning `hue` is deprecated and will be removed in v0.14.0. Assign the `x` variable to `hue` and set `legend=False` for the same effect.\n",
      "\n",
      "  sns.violinplot(\n"
     ]
    },
    {
     "data": {
      "text/plain": [
       "<matplotlib.legend.Legend at 0x177b7a810>"
      ]
     },
     "execution_count": 29,
     "metadata": {},
     "output_type": "execute_result"
    },
    {
     "data": {
      "image/png": "[encoded data removed]",
      "text/plain": [
       "<Figure size 640x480 with 1 Axes>"
      ]
     },
     "metadata": {},
     "output_type": "display_data"
    }
   ],
   "source": [
    "unique_labels = country_df[\"label_child\"].unique()\n",
    "palette = sns.color_palette(\"husl\", len(unique_labels))\n",
    "sns.violinplot(\n",
    "    x = \"label_child\",\n",
    "    y = \"log_gdpp\",\n",
    "    data = country_df,\n",
    "    palette = palette)\n",
    "plt.axhline(10.003333, color = \"red\", linestyle = \"--\", label = \"South Korea\")\n",
    "plt.legend()"
   ]
  },
  {
   "cell_type": "code",
   "execution_count": 30,
   "id": "eb5c0f34-541a-41bd-bd1e-ad70076042a6",
   "metadata": {},
   "outputs": [
    {
     "name": "stderr",
     "output_type": "stream",
     "text": [
      "/var/folders/yd/plqzt5cj0m5blbgycq9b7d_40000gn/T/ipykernel_5145/1710731577.py:3: FutureWarning: \n",
      "\n",
      "Passing `palette` without assigning `hue` is deprecated and will be removed in v0.14.0. Assign the `x` variable to `hue` and set `legend=False` for the same effect.\n",
      "\n",
      "  sns.violinplot(\n"
     ]
    },
    {
     "data": {
      "text/plain": [
       "<matplotlib.legend.Legend at 0x177c1d550>"
      ]
     },
     "execution_count": 30,
     "metadata": {},
     "output_type": "execute_result"
    },
    {
     "data": {
      "image/png": "[encoded data removed]",
      "text/plain": [
       "<Figure size 640x480 with 1 Axes>"
      ]
     },
     "metadata": {},
     "output_type": "display_data"
    }
   ],
   "source": [
    "unique_labels = country_df[\"label_child\"].unique()\n",
    "palette = sns.color_palette(\"husl\", len(unique_labels))\n",
    "sns.violinplot(\n",
    "    x = \"label_child\",\n",
    "    y = \"gdpp\",\n",
    "    data = country_df,\n",
    "    palette = palette)\n",
    "plt.axhline(22100.0, color = \"red\", linestyle = \"--\", label = \"South Korea\")\n",
    "plt.legend()"
   ]
  },
  {
   "cell_type": "code",
   "execution_count": 31,
   "id": "5d25a597-0259-40a3-9017-cb18c008bc7e",
   "metadata": {},
   "outputs": [
    {
     "data": {
      "text/html": [
       "<div>\n",
       "<style scoped>\n",
       "    .dataframe tbody tr th:only-of-type {\n",
       "        vertical-align: middle;\n",
       "    }\n",
       "\n",
       "    .dataframe tbody tr th {\n",
       "        vertical-align: top;\n",
       "    }\n",
       "\n",
       "    .dataframe thead th {\n",
       "        text-align: right;\n",
       "    }\n",
       "</style>\n",
       "<table border=\"1\" class=\"dataframe\">\n",
       "  <thead>\n",
       "    <tr style=\"text-align: right;\">\n",
       "      <th></th>\n",
       "      <th>count</th>\n",
       "      <th>mean</th>\n",
       "      <th>std</th>\n",
       "      <th>min</th>\n",
       "      <th>25%</th>\n",
       "      <th>50%</th>\n",
       "      <th>75%</th>\n",
       "      <th>max</th>\n",
       "    </tr>\n",
       "    <tr>\n",
       "      <th>label_child</th>\n",
       "      <th></th>\n",
       "      <th></th>\n",
       "      <th></th>\n",
       "      <th></th>\n",
       "      <th></th>\n",
       "      <th></th>\n",
       "      <th></th>\n",
       "      <th></th>\n",
       "    </tr>\n",
       "  </thead>\n",
       "  <tbody>\n",
       "    <tr>\n",
       "      <th>0</th>\n",
       "      <td>134.0</td>\n",
       "      <td>15815.649254</td>\n",
       "      <td>19386.116272</td>\n",
       "      <td>413.0</td>\n",
       "      <td>3137.5</td>\n",
       "      <td>7190.0</td>\n",
       "      <td>21000.0</td>\n",
       "      <td>105000.0</td>\n",
       "    </tr>\n",
       "    <tr>\n",
       "      <th>1</th>\n",
       "      <td>33.0</td>\n",
       "      <td>1385.363636</td>\n",
       "      <td>2895.047202</td>\n",
       "      <td>231.0</td>\n",
       "      <td>488.0</td>\n",
       "      <td>702.0</td>\n",
       "      <td>1200.0</td>\n",
       "      <td>17100.0</td>\n",
       "    </tr>\n",
       "  </tbody>\n",
       "</table>\n",
       "</div>"
      ],
      "text/plain": [
       "             count          mean           std    min     25%     50%  \\\n",
       "label_child                                                             \n",
       "0            134.0  15815.649254  19386.116272  413.0  3137.5  7190.0   \n",
       "1             33.0   1385.363636   2895.047202  231.0   488.0   702.0   \n",
       "\n",
       "                 75%       max  \n",
       "label_child                     \n",
       "0            21000.0  105000.0  \n",
       "1             1200.0   17100.0  "
      ]
     },
     "execution_count": 31,
     "metadata": {},
     "output_type": "execute_result"
    }
   ],
   "source": [
    "country_df.groupby('label_child')['gdpp'].describe()"
   ]
  },
  {
   "cell_type": "code",
   "execution_count": 32,
   "id": "f638f68b-a514-429b-8855-51c226923f70",
   "metadata": {},
   "outputs": [
    {
     "data": {
      "text/html": [
       "<div>\n",
       "<style scoped>\n",
       "    .dataframe tbody tr th:only-of-type {\n",
       "        vertical-align: middle;\n",
       "    }\n",
       "\n",
       "    .dataframe tbody tr th {\n",
       "        vertical-align: top;\n",
       "    }\n",
       "\n",
       "    .dataframe thead th {\n",
       "        text-align: right;\n",
       "    }\n",
       "</style>\n",
       "<table border=\"1\" class=\"dataframe\">\n",
       "  <thead>\n",
       "    <tr style=\"text-align: right;\">\n",
       "      <th></th>\n",
       "      <th>country</th>\n",
       "      <th>gdpp</th>\n",
       "    </tr>\n",
       "  </thead>\n",
       "  <tbody>\n",
       "    <tr>\n",
       "      <th>138</th>\n",
       "      <td>South Korea</td>\n",
       "      <td>22100.0</td>\n",
       "    </tr>\n",
       "  </tbody>\n",
       "</table>\n",
       "</div>"
      ],
      "text/plain": [
       "         country     gdpp\n",
       "138  South Korea  22100.0"
      ]
     },
     "execution_count": 32,
     "metadata": {},
     "output_type": "execute_result"
    }
   ],
   "source": [
    "South_Korea(country_df, \"gdpp\")"
   ]
  },
  {
   "cell_type": "code",
   "execution_count": 33,
   "id": "b09afc00-9dab-417f-9308-4c282d9dd4d9",
   "metadata": {},
   "outputs": [
    {
     "data": {
      "text/plain": [
       "Text(0.5, 1.0, 'income 히스토그램')"
      ]
     },
     "execution_count": 33,
     "metadata": {},
     "output_type": "execute_result"
    },
    {
     "data": {
      "image/png": "[encoded data removed]",
      "text/plain": [
       "<Figure size 640x480 with 1 Axes>"
      ]
     },
     "metadata": {},
     "output_type": "display_data"
    }
   ],
   "source": [
    "country_df['income'].hist()\n",
    "plt.title(\"income 히스토그램\")"
   ]
  },
  {
   "cell_type": "code",
   "execution_count": 34,
   "id": "f2b881b0-19e8-4fc5-b6c5-10883a63af2d",
   "metadata": {},
   "outputs": [],
   "source": [
    "country_df['log_income'] = np.log(country_df['income'])"
   ]
  },
  {
   "cell_type": "code",
   "execution_count": 35,
   "id": "7435139e-7c71-40fa-b7d1-44a3081e88b5",
   "metadata": {},
   "outputs": [
    {
     "data": {
      "text/plain": [
       "Text(0.5, 1.0, '로그화한 income')"
      ]
     },
     "execution_count": 35,
     "metadata": {},
     "output_type": "execute_result"
    },
    {
     "data": {
      "image/png": "[encoded data removed]",
      "text/plain": [
       "<Figure size 640x480 with 1 Axes>"
      ]
     },
     "metadata": {},
     "output_type": "display_data"
    }
   ],
   "source": [
    "country_df['log_income'].hist()\n",
    "plt.title(\"로그화한 income\")"
   ]
  },
  {
   "cell_type": "code",
   "execution_count": 36,
   "id": "879b7e0f-79b5-426f-b09f-31a60c7df555",
   "metadata": {},
   "outputs": [
    {
     "data": {
      "text/html": [
       "<div>\n",
       "<style scoped>\n",
       "    .dataframe tbody tr th:only-of-type {\n",
       "        vertical-align: middle;\n",
       "    }\n",
       "\n",
       "    .dataframe tbody tr th {\n",
       "        vertical-align: top;\n",
       "    }\n",
       "\n",
       "    .dataframe thead th {\n",
       "        text-align: right;\n",
       "    }\n",
       "</style>\n",
       "<table border=\"1\" class=\"dataframe\">\n",
       "  <thead>\n",
       "    <tr style=\"text-align: right;\">\n",
       "      <th></th>\n",
       "      <th>country</th>\n",
       "      <th>log_income</th>\n",
       "    </tr>\n",
       "  </thead>\n",
       "  <tbody>\n",
       "    <tr>\n",
       "      <th>138</th>\n",
       "      <td>South Korea</td>\n",
       "      <td>10.322198</td>\n",
       "    </tr>\n",
       "  </tbody>\n",
       "</table>\n",
       "</div>"
      ],
      "text/plain": [
       "         country  log_income\n",
       "138  South Korea   10.322198"
      ]
     },
     "execution_count": 36,
     "metadata": {},
     "output_type": "execute_result"
    }
   ],
   "source": [
    "South_Korea(country_df,'log_income')"
   ]
  },
  {
   "cell_type": "code",
   "execution_count": 37,
   "id": "3e0d2d44-9df1-4133-8647-0637efbaae2a",
   "metadata": {},
   "outputs": [
    {
     "name": "stderr",
     "output_type": "stream",
     "text": [
      "/var/folders/yd/plqzt5cj0m5blbgycq9b7d_40000gn/T/ipykernel_5145/1770284302.py:3: FutureWarning: \n",
      "\n",
      "Passing `palette` without assigning `hue` is deprecated and will be removed in v0.14.0. Assign the `x` variable to `hue` and set `legend=False` for the same effect.\n",
      "\n",
      "  sns.violinplot(\n"
     ]
    },
    {
     "data": {
      "text/plain": [
       "<matplotlib.legend.Legend at 0x177d6e950>"
      ]
     },
     "execution_count": 37,
     "metadata": {},
     "output_type": "execute_result"
    },
    {
     "data": {
      "image/png": "[encoded data removed]",
      "text/plain": [
       "<Figure size 640x480 with 1 Axes>"
      ]
     },
     "metadata": {},
     "output_type": "display_data"
    }
   ],
   "source": [
    "unique_labels = country_df[\"label_child\"].unique()\n",
    "palette = sns.color_palette(\"husl\", len(unique_labels))\n",
    "sns.violinplot(\n",
    "    x = \"label_child\",\n",
    "    y = \"log_income\",\n",
    "    data = country_df,\n",
    "    palette = palette)\n",
    "plt.axhline(10.322198, color = \"red\", linestyle = \"--\", label = \"South Korea\")\n",
    "plt.legend()"
   ]
  },
  {
   "cell_type": "code",
   "execution_count": 38,
   "id": "ed2f4aca-819d-430c-92b8-1e32079209a5",
   "metadata": {},
   "outputs": [
    {
     "name": "stderr",
     "output_type": "stream",
     "text": [
      "/var/folders/yd/plqzt5cj0m5blbgycq9b7d_40000gn/T/ipykernel_5145/1079456810.py:3: FutureWarning: \n",
      "\n",
      "Passing `palette` without assigning `hue` is deprecated and will be removed in v0.14.0. Assign the `x` variable to `hue` and set `legend=False` for the same effect.\n",
      "\n",
      "  sns.violinplot(\n"
     ]
    },
    {
     "data": {
      "text/plain": [
       "<matplotlib.legend.Legend at 0x177e6fe10>"
      ]
     },
     "execution_count": 38,
     "metadata": {},
     "output_type": "execute_result"
    },
    {
     "data": {
      "image/png": "[encoded data removed]",
      "text/plain": [
       "<Figure size 640x480 with 1 Axes>"
      ]
     },
     "metadata": {},
     "output_type": "display_data"
    }
   ],
   "source": [
    "unique_labels = country_df[\"label_child\"].unique()\n",
    "palette = sns.color_palette(\"husl\", len(unique_labels))\n",
    "sns.violinplot(\n",
    "    x = \"label_child\",\n",
    "    y = \"income\",\n",
    "    data = country_df,\n",
    "    palette = palette)\n",
    "plt.axhline(30400.0, color = \"red\", linestyle = \"--\", label = \"South Korea\")\n",
    "plt.legend()"
   ]
  },
  {
   "cell_type": "markdown",
   "id": "df3c27a8-9e06-409f-9c3d-128cff6dbad6",
   "metadata": {},
   "source": [
    "#### 아동사망률이 높고 아이를 많이 낳는 국가의 경우 개인 gdpp와 income이 낮은 경우를 보였다."
   ]
  },
  {
   "cell_type": "markdown",
   "id": "b6085c08-fafe-438c-942a-3964f83d180d",
   "metadata": {},
   "source": [
    "### 한국보다 income이 높은 국가들 중 비교적 출산률이 높은 label_baby 1에 속하는 집단을 보았다.\n",
    "가설 1. 이 국가들은 비교적 국민 수준이 경제적 수준이 높은데 아이들을 많이 낳지 않을까?"
   ]
  },
  {
   "cell_type": "code",
   "execution_count": 39,
   "id": "558f814b-cdc6-4f68-bddc-6c10647e76a2",
   "metadata": {},
   "outputs": [
    {
     "data": {
      "text/html": [
       "<div>\n",
       "<style scoped>\n",
       "    .dataframe tbody tr th:only-of-type {\n",
       "        vertical-align: middle;\n",
       "    }\n",
       "\n",
       "    .dataframe tbody tr th {\n",
       "        vertical-align: top;\n",
       "    }\n",
       "\n",
       "    .dataframe thead th {\n",
       "        text-align: right;\n",
       "    }\n",
       "</style>\n",
       "<table border=\"1\" class=\"dataframe\">\n",
       "  <thead>\n",
       "    <tr style=\"text-align: right;\">\n",
       "      <th></th>\n",
       "      <th>country</th>\n",
       "      <th>child_mort</th>\n",
       "      <th>income</th>\n",
       "      <th>life_expec</th>\n",
       "      <th>total_fer</th>\n",
       "      <th>gdpp</th>\n",
       "    </tr>\n",
       "  </thead>\n",
       "  <tbody>\n",
       "    <tr>\n",
       "      <th>49</th>\n",
       "      <td>Equatorial Guinea</td>\n",
       "      <td>111.0</td>\n",
       "      <td>33700.0</td>\n",
       "      <td>60.9</td>\n",
       "      <td>5.21</td>\n",
       "      <td>17100.0</td>\n",
       "    </tr>\n",
       "  </tbody>\n",
       "</table>\n",
       "</div>"
      ],
      "text/plain": [
       "              country  child_mort   income  life_expec  total_fer     gdpp\n",
       "49  Equatorial Guinea       111.0  33700.0        60.9       5.21  17100.0"
      ]
     },
     "execution_count": 39,
     "metadata": {},
     "output_type": "execute_result"
    }
   ],
   "source": [
    "country_df[(country_df['label_child'] == 1)&(country_df['income'] >= 30400.0)][['country','child_mort','income', 'life_expec','total_fer','gdpp']]"
   ]
  },
  {
   "cell_type": "markdown",
   "id": "44b276e6-64ce-453c-b2ae-09c862a68968",
   "metadata": {},
   "source": [
    "### 그렇지 않았다, 석유 수출국가로 석유에 많이 의존하는 형태라 수출수입량이 많았으나 아동사망률이 25배이상 많았고 평균수명도 비교적 적었다. 개인 income이 한국보다 높았지만 이점은 빈부격차 비교적 커서 나타난 경향으로 국민들 대부분인 우리나라보다 가난하였다. 경제적으로 가난한 나라일수록 출산율이 더 높은 경향이 있다는 점은 변하지 않았다."
   ]
  },
  {
   "cell_type": "code",
   "execution_count": 40,
   "id": "f80215ae-68f6-49f3-bb95-eb060045ae20",
   "metadata": {},
   "outputs": [
    {
     "data": {
      "text/html": [
       "<div>\n",
       "<style scoped>\n",
       "    .dataframe tbody tr th:only-of-type {\n",
       "        vertical-align: middle;\n",
       "    }\n",
       "\n",
       "    .dataframe tbody tr th {\n",
       "        vertical-align: top;\n",
       "    }\n",
       "\n",
       "    .dataframe thead th {\n",
       "        text-align: right;\n",
       "    }\n",
       "</style>\n",
       "<table border=\"1\" class=\"dataframe\">\n",
       "  <thead>\n",
       "    <tr style=\"text-align: right;\">\n",
       "      <th></th>\n",
       "      <th>country</th>\n",
       "      <th>child_mort</th>\n",
       "      <th>income</th>\n",
       "      <th>life_expec</th>\n",
       "      <th>total_fer</th>\n",
       "      <th>gdpp</th>\n",
       "      <th>exports</th>\n",
       "      <th>imports</th>\n",
       "    </tr>\n",
       "  </thead>\n",
       "  <tbody>\n",
       "    <tr>\n",
       "      <th>138</th>\n",
       "      <td>South Korea</td>\n",
       "      <td>4.1</td>\n",
       "      <td>30400.0</td>\n",
       "      <td>80.1</td>\n",
       "      <td>1.23</td>\n",
       "      <td>22100.0</td>\n",
       "      <td>49.4</td>\n",
       "      <td>46.2</td>\n",
       "    </tr>\n",
       "  </tbody>\n",
       "</table>\n",
       "</div>"
      ],
      "text/plain": [
       "         country  child_mort   income  life_expec  total_fer     gdpp  \\\n",
       "138  South Korea         4.1  30400.0        80.1       1.23  22100.0   \n",
       "\n",
       "     exports  imports  \n",
       "138     49.4     46.2  "
      ]
     },
     "execution_count": 40,
     "metadata": {},
     "output_type": "execute_result"
    }
   ],
   "source": [
    "country_df[country_df['country'] == 'South Korea'][['country','child_mort','income', 'life_expec','total_fer','gdpp','exports','imports']]"
   ]
  },
  {
   "cell_type": "markdown",
   "id": "0213f3be-ee53-4818-ac4f-46c39c60f527",
   "metadata": {},
   "source": [
    "# 같은 label0 국가내에서 한국보다 개인 경제수준이 높은데 출산율도 높은 국가들을 살펴보는게 어떨까?"
   ]
  },
  {
   "cell_type": "code",
   "execution_count": 41,
   "id": "638d90d0-af22-4b89-b5e8-dcb778a4252b",
   "metadata": {},
   "outputs": [],
   "source": [
    "country_child0 = country_df[country_df['label_child']== 0].copy()"
   ]
  },
  {
   "cell_type": "code",
   "execution_count": 42,
   "id": "470b6866-22ef-4f71-a7fd-801629f95463",
   "metadata": {},
   "outputs": [
    {
     "name": "stdout",
     "output_type": "stream",
     "text": [
      "<class 'pandas.core.frame.DataFrame'>\n",
      "Int64Index: 134 entries, 1 to 165\n",
      "Data columns (total 18 columns):\n",
      " #   Column       Non-Null Count  Dtype  \n",
      "---  ------       --------------  -----  \n",
      " 0   country      134 non-null    object \n",
      " 1   child_mort   134 non-null    float64\n",
      " 2   exports      134 non-null    float64\n",
      " 3   health       134 non-null    float64\n",
      " 4   imports      134 non-null    float64\n",
      " 5   income       134 non-null    float64\n",
      " 6   inflation    134 non-null    float64\n",
      " 7   life_expec   134 non-null    float64\n",
      " 8   total_fer    134 non-null    float64\n",
      " 9   gdpp         134 non-null    float64\n",
      " 10  region_1     134 non-null    object \n",
      " 11  region_2     37 non-null     object \n",
      " 12  continent    134 non-null    object \n",
      " 13  latitude     134 non-null    float64\n",
      " 14  longitude    134 non-null    float64\n",
      " 15  label_child  134 non-null    int64  \n",
      " 16  log_gdpp     134 non-null    float64\n",
      " 17  log_income   134 non-null    float64\n",
      "dtypes: float64(13), int64(1), object(4)\n",
      "memory usage: 19.9+ KB\n"
     ]
    }
   ],
   "source": [
    "country_child0.info()"
   ]
  },
  {
   "cell_type": "markdown",
   "id": "c564b25d-1ca8-4501-b838-d6debbb04eb3",
   "metadata": {},
   "source": [
    "# 여기 국가들로만 다시 clustering을 해보았다."
   ]
  },
  {
   "cell_type": "code",
   "execution_count": 43,
   "id": "e3a04033-1d13-46cf-b0e0-d5744ac1510f",
   "metadata": {},
   "outputs": [
    {
     "data": {
      "text/html": [
       "<div>\n",
       "<style scoped>\n",
       "    .dataframe tbody tr th:only-of-type {\n",
       "        vertical-align: middle;\n",
       "    }\n",
       "\n",
       "    .dataframe tbody tr th {\n",
       "        vertical-align: top;\n",
       "    }\n",
       "\n",
       "    .dataframe thead th {\n",
       "        text-align: right;\n",
       "    }\n",
       "</style>\n",
       "<table border=\"1\" class=\"dataframe\">\n",
       "  <thead>\n",
       "    <tr style=\"text-align: right;\">\n",
       "      <th></th>\n",
       "      <th>child_mort</th>\n",
       "      <th>exports</th>\n",
       "      <th>health</th>\n",
       "      <th>imports</th>\n",
       "      <th>income</th>\n",
       "      <th>inflation</th>\n",
       "      <th>life_expec</th>\n",
       "      <th>total_fer</th>\n",
       "      <th>gdpp</th>\n",
       "      <th>latitude</th>\n",
       "      <th>longitude</th>\n",
       "      <th>label_child</th>\n",
       "      <th>log_gdpp</th>\n",
       "      <th>log_income</th>\n",
       "    </tr>\n",
       "  </thead>\n",
       "  <tbody>\n",
       "    <tr>\n",
       "      <th>child_mort</th>\n",
       "      <td>1.000000</td>\n",
       "      <td>-0.301962</td>\n",
       "      <td>-0.343595</td>\n",
       "      <td>-0.175375</td>\n",
       "      <td>-0.561722</td>\n",
       "      <td>0.301258</td>\n",
       "      <td>-0.829033</td>\n",
       "      <td>0.774009</td>\n",
       "      <td>-0.550915</td>\n",
       "      <td>-0.421184</td>\n",
       "      <td>0.091307</td>\n",
       "      <td>NaN</td>\n",
       "      <td>-0.759810</td>\n",
       "      <td>-0.768657</td>\n",
       "    </tr>\n",
       "    <tr>\n",
       "      <th>exports</th>\n",
       "      <td>-0.301962</td>\n",
       "      <td>1.000000</td>\n",
       "      <td>-0.120685</td>\n",
       "      <td>0.785942</td>\n",
       "      <td>0.473270</td>\n",
       "      <td>-0.143679</td>\n",
       "      <td>0.237417</td>\n",
       "      <td>-0.263631</td>\n",
       "      <td>0.375288</td>\n",
       "      <td>0.151128</td>\n",
       "      <td>0.139846</td>\n",
       "      <td>NaN</td>\n",
       "      <td>0.381196</td>\n",
       "      <td>0.440666</td>\n",
       "    </tr>\n",
       "    <tr>\n",
       "      <th>health</th>\n",
       "      <td>-0.343595</td>\n",
       "      <td>-0.120685</td>\n",
       "      <td>1.000000</td>\n",
       "      <td>0.044591</td>\n",
       "      <td>0.131880</td>\n",
       "      <td>-0.358728</td>\n",
       "      <td>0.336815</td>\n",
       "      <td>-0.245168</td>\n",
       "      <td>0.378367</td>\n",
       "      <td>0.236525</td>\n",
       "      <td>-0.226788</td>\n",
       "      <td>NaN</td>\n",
       "      <td>0.380271</td>\n",
       "      <td>0.223160</td>\n",
       "    </tr>\n",
       "    <tr>\n",
       "      <th>imports</th>\n",
       "      <td>-0.175375</td>\n",
       "      <td>0.785942</td>\n",
       "      <td>0.044591</td>\n",
       "      <td>1.000000</td>\n",
       "      <td>0.105892</td>\n",
       "      <td>-0.274793</td>\n",
       "      <td>0.046512</td>\n",
       "      <td>-0.135388</td>\n",
       "      <td>0.100929</td>\n",
       "      <td>0.085291</td>\n",
       "      <td>0.046943</td>\n",
       "      <td>NaN</td>\n",
       "      <td>0.060509</td>\n",
       "      <td>0.050485</td>\n",
       "    </tr>\n",
       "    <tr>\n",
       "      <th>income</th>\n",
       "      <td>-0.561722</td>\n",
       "      <td>0.473270</td>\n",
       "      <td>0.131880</td>\n",
       "      <td>0.105892</td>\n",
       "      <td>1.000000</td>\n",
       "      <td>-0.151695</td>\n",
       "      <td>0.608096</td>\n",
       "      <td>-0.415317</td>\n",
       "      <td>0.884222</td>\n",
       "      <td>0.301281</td>\n",
       "      <td>0.053261</td>\n",
       "      <td>NaN</td>\n",
       "      <td>0.826466</td>\n",
       "      <td>0.851733</td>\n",
       "    </tr>\n",
       "    <tr>\n",
       "      <th>inflation</th>\n",
       "      <td>0.301258</td>\n",
       "      <td>-0.143679</td>\n",
       "      <td>-0.358728</td>\n",
       "      <td>-0.274793</td>\n",
       "      <td>-0.151695</td>\n",
       "      <td>1.000000</td>\n",
       "      <td>-0.302962</td>\n",
       "      <td>0.331280</td>\n",
       "      <td>-0.270314</td>\n",
       "      <td>-0.137894</td>\n",
       "      <td>0.164642</td>\n",
       "      <td>NaN</td>\n",
       "      <td>-0.284449</td>\n",
       "      <td>-0.203259</td>\n",
       "    </tr>\n",
       "    <tr>\n",
       "      <th>life_expec</th>\n",
       "      <td>-0.829033</td>\n",
       "      <td>0.237417</td>\n",
       "      <td>0.336815</td>\n",
       "      <td>0.046512</td>\n",
       "      <td>0.608096</td>\n",
       "      <td>-0.302962</td>\n",
       "      <td>1.000000</td>\n",
       "      <td>-0.648060</td>\n",
       "      <td>0.638309</td>\n",
       "      <td>0.404632</td>\n",
       "      <td>-0.135939</td>\n",
       "      <td>NaN</td>\n",
       "      <td>0.753055</td>\n",
       "      <td>0.744720</td>\n",
       "    </tr>\n",
       "    <tr>\n",
       "      <th>total_fer</th>\n",
       "      <td>0.774009</td>\n",
       "      <td>-0.263631</td>\n",
       "      <td>-0.245168</td>\n",
       "      <td>-0.135388</td>\n",
       "      <td>-0.415317</td>\n",
       "      <td>0.331280</td>\n",
       "      <td>-0.648060</td>\n",
       "      <td>1.000000</td>\n",
       "      <td>-0.391547</td>\n",
       "      <td>-0.472461</td>\n",
       "      <td>-0.006674</td>\n",
       "      <td>NaN</td>\n",
       "      <td>-0.575176</td>\n",
       "      <td>-0.642993</td>\n",
       "    </tr>\n",
       "    <tr>\n",
       "      <th>gdpp</th>\n",
       "      <td>-0.550915</td>\n",
       "      <td>0.375288</td>\n",
       "      <td>0.378367</td>\n",
       "      <td>0.100929</td>\n",
       "      <td>0.884222</td>\n",
       "      <td>-0.270314</td>\n",
       "      <td>0.638309</td>\n",
       "      <td>-0.391547</td>\n",
       "      <td>1.000000</td>\n",
       "      <td>0.359632</td>\n",
       "      <td>-0.014209</td>\n",
       "      <td>NaN</td>\n",
       "      <td>0.842871</td>\n",
       "      <td>0.775996</td>\n",
       "    </tr>\n",
       "    <tr>\n",
       "      <th>latitude</th>\n",
       "      <td>-0.421184</td>\n",
       "      <td>0.151128</td>\n",
       "      <td>0.236525</td>\n",
       "      <td>0.085291</td>\n",
       "      <td>0.301281</td>\n",
       "      <td>-0.137894</td>\n",
       "      <td>0.404632</td>\n",
       "      <td>-0.472461</td>\n",
       "      <td>0.359632</td>\n",
       "      <td>1.000000</td>\n",
       "      <td>0.068249</td>\n",
       "      <td>NaN</td>\n",
       "      <td>0.331159</td>\n",
       "      <td>0.368354</td>\n",
       "    </tr>\n",
       "    <tr>\n",
       "      <th>longitude</th>\n",
       "      <td>0.091307</td>\n",
       "      <td>0.139846</td>\n",
       "      <td>-0.226788</td>\n",
       "      <td>0.046943</td>\n",
       "      <td>0.053261</td>\n",
       "      <td>0.164642</td>\n",
       "      <td>-0.135939</td>\n",
       "      <td>-0.006674</td>\n",
       "      <td>-0.014209</td>\n",
       "      <td>0.068249</td>\n",
       "      <td>1.000000</td>\n",
       "      <td>NaN</td>\n",
       "      <td>-0.107846</td>\n",
       "      <td>-0.058103</td>\n",
       "    </tr>\n",
       "    <tr>\n",
       "      <th>label_child</th>\n",
       "      <td>NaN</td>\n",
       "      <td>NaN</td>\n",
       "      <td>NaN</td>\n",
       "      <td>NaN</td>\n",
       "      <td>NaN</td>\n",
       "      <td>NaN</td>\n",
       "      <td>NaN</td>\n",
       "      <td>NaN</td>\n",
       "      <td>NaN</td>\n",
       "      <td>NaN</td>\n",
       "      <td>NaN</td>\n",
       "      <td>NaN</td>\n",
       "      <td>NaN</td>\n",
       "      <td>NaN</td>\n",
       "    </tr>\n",
       "    <tr>\n",
       "      <th>log_gdpp</th>\n",
       "      <td>-0.759810</td>\n",
       "      <td>0.381196</td>\n",
       "      <td>0.380271</td>\n",
       "      <td>0.060509</td>\n",
       "      <td>0.826466</td>\n",
       "      <td>-0.284449</td>\n",
       "      <td>0.753055</td>\n",
       "      <td>-0.575176</td>\n",
       "      <td>0.842871</td>\n",
       "      <td>0.331159</td>\n",
       "      <td>-0.107846</td>\n",
       "      <td>NaN</td>\n",
       "      <td>1.000000</td>\n",
       "      <td>0.957222</td>\n",
       "    </tr>\n",
       "    <tr>\n",
       "      <th>log_income</th>\n",
       "      <td>-0.768657</td>\n",
       "      <td>0.440666</td>\n",
       "      <td>0.223160</td>\n",
       "      <td>0.050485</td>\n",
       "      <td>0.851733</td>\n",
       "      <td>-0.203259</td>\n",
       "      <td>0.744720</td>\n",
       "      <td>-0.642993</td>\n",
       "      <td>0.775996</td>\n",
       "      <td>0.368354</td>\n",
       "      <td>-0.058103</td>\n",
       "      <td>NaN</td>\n",
       "      <td>0.957222</td>\n",
       "      <td>1.000000</td>\n",
       "    </tr>\n",
       "  </tbody>\n",
       "</table>\n",
       "</div>"
      ],
      "text/plain": [
       "             child_mort   exports    health   imports    income  inflation  \\\n",
       "child_mort     1.000000 -0.301962 -0.343595 -0.175375 -0.561722   0.301258   \n",
       "exports       -0.301962  1.000000 -0.120685  0.785942  0.473270  -0.143679   \n",
       "health        -0.343595 -0.120685  1.000000  0.044591  0.131880  -0.358728   \n",
       "imports       -0.175375  0.785942  0.044591  1.000000  0.105892  -0.274793   \n",
       "income        -0.561722  0.473270  0.131880  0.105892  1.000000  -0.151695   \n",
       "inflation      0.301258 -0.143679 -0.358728 -0.274793 -0.151695   1.000000   \n",
       "life_expec    -0.829033  0.237417  0.336815  0.046512  0.608096  -0.302962   \n",
       "total_fer      0.774009 -0.263631 -0.245168 -0.135388 -0.415317   0.331280   \n",
       "gdpp          -0.550915  0.375288  0.378367  0.100929  0.884222  -0.270314   \n",
       "latitude      -0.421184  0.151128  0.236525  0.085291  0.301281  -0.137894   \n",
       "longitude      0.091307  0.139846 -0.226788  0.046943  0.053261   0.164642   \n",
       "label_child         NaN       NaN       NaN       NaN       NaN        NaN   \n",
       "log_gdpp      -0.759810  0.381196  0.380271  0.060509  0.826466  -0.284449   \n",
       "log_income    -0.768657  0.440666  0.223160  0.050485  0.851733  -0.203259   \n",
       "\n",
       "             life_expec  total_fer      gdpp  latitude  longitude  \\\n",
       "child_mort    -0.829033   0.774009 -0.550915 -0.421184   0.091307   \n",
       "exports        0.237417  -0.263631  0.375288  0.151128   0.139846   \n",
       "health         0.336815  -0.245168  0.378367  0.236525  -0.226788   \n",
       "imports        0.046512  -0.135388  0.100929  0.085291   0.046943   \n",
       "income         0.608096  -0.415317  0.884222  0.301281   0.053261   \n",
       "inflation     -0.302962   0.331280 -0.270314 -0.137894   0.164642   \n",
       "life_expec     1.000000  -0.648060  0.638309  0.404632  -0.135939   \n",
       "total_fer     -0.648060   1.000000 -0.391547 -0.472461  -0.006674   \n",
       "gdpp           0.638309  -0.391547  1.000000  0.359632  -0.014209   \n",
       "latitude       0.404632  -0.472461  0.359632  1.000000   0.068249   \n",
       "longitude     -0.135939  -0.006674 -0.014209  0.068249   1.000000   \n",
       "label_child         NaN        NaN       NaN       NaN        NaN   \n",
       "log_gdpp       0.753055  -0.575176  0.842871  0.331159  -0.107846   \n",
       "log_income     0.744720  -0.642993  0.775996  0.368354  -0.058103   \n",
       "\n",
       "             label_child  log_gdpp  log_income  \n",
       "child_mort           NaN -0.759810   -0.768657  \n",
       "exports              NaN  0.381196    0.440666  \n",
       "health               NaN  0.380271    0.223160  \n",
       "imports              NaN  0.060509    0.050485  \n",
       "income               NaN  0.826466    0.851733  \n",
       "inflation            NaN -0.284449   -0.203259  \n",
       "life_expec           NaN  0.753055    0.744720  \n",
       "total_fer            NaN -0.575176   -0.642993  \n",
       "gdpp                 NaN  0.842871    0.775996  \n",
       "latitude             NaN  0.331159    0.368354  \n",
       "longitude            NaN -0.107846   -0.058103  \n",
       "label_child          NaN       NaN         NaN  \n",
       "log_gdpp             NaN  1.000000    0.957222  \n",
       "log_income           NaN  0.957222    1.000000  "
      ]
     },
     "execution_count": 43,
     "metadata": {},
     "output_type": "execute_result"
    }
   ],
   "source": [
    "country_child0.corr(numeric_only= True)"
   ]
  },
  {
   "cell_type": "code",
   "execution_count": 44,
   "id": "fc9c6b35-442c-4e32-91eb-a92b79f1a8b1",
   "metadata": {},
   "outputs": [],
   "source": [
    "fertility_economy_col = country_child0[['total_fer','gdpp','income']].reset_index(drop=True)"
   ]
  },
  {
   "cell_type": "code",
   "execution_count": 45,
   "id": "1842901b-1ce6-400d-8551-46f51f5c9a29",
   "metadata": {},
   "outputs": [
    {
     "data": {
      "text/plain": [
       "<matplotlib.lines.Line2D at 0x177df6710>"
      ]
     },
     "execution_count": 45,
     "metadata": {},
     "output_type": "execute_result"
    },
    {
     "data": {
      "image/png": "[encoded data removed]",
      "text/plain": [
       "<Figure size 1800x600 with 1 Axes>"
      ]
     },
     "metadata": {},
     "output_type": "display_data"
    }
   ],
   "source": [
    "plt.figure(figsize=(18,6))\n",
    "_=hc.dendrogram(\n",
    "    hc.linkage(fertility_economy_col, method=\"ward\"))\n",
    "plt.axhline(120000, color = \"blue\", linestyle = \"--\")"
   ]
  },
  {
   "cell_type": "code",
   "execution_count": 46,
   "id": "b976f8bf-1b84-4f85-8aa7-b3d31f34c0c4",
   "metadata": {},
   "outputs": [
    {
     "data": {
      "text/plain": [
       "Text(0.5, 1.0, '군집 개수별 실루엣 계수')"
      ]
     },
     "execution_count": 46,
     "metadata": {},
     "output_type": "execute_result"
    },
    {
     "data": {
      "image/png": "[encoded data removed]",
      "text/plain": [
       "<Figure size 640x480 with 1 Axes>"
      ]
     },
     "metadata": {},
     "output_type": "display_data"
    }
   ],
   "source": [
    "silhouette_scores = []\n",
    "for i in range(2, 8):\n",
    "    silhouette_scores.append(\n",
    "        silhouette_score(fertility_economy_col, AgglomerativeClustering(n_clusters = i).fit_predict(fertility_economy_col)))\n",
    "plt.bar(range(2,8), silhouette_scores)\n",
    "plt.title(\"군집 개수별 실루엣 계수\")"
   ]
  },
  {
   "cell_type": "code",
   "execution_count": 47,
   "id": "ef490f91-86a7-4a6b-904b-7a98db14201f",
   "metadata": {},
   "outputs": [],
   "source": [
    "model = AgglomerativeClustering(n_clusters=3, metric=\"euclidean\", linkage =\"ward\")\n",
    "country_child0[\"label_fertility_economy\"] = model.fit_predict(fertility_economy_col)"
   ]
  },
  {
   "cell_type": "code",
   "execution_count": 48,
   "id": "5158e6ac-6641-4f36-8aeb-1041c563f2ee",
   "metadata": {},
   "outputs": [
    {
     "data": {
      "text/html": [
       "<div>\n",
       "<style scoped>\n",
       "    .dataframe tbody tr th:only-of-type {\n",
       "        vertical-align: middle;\n",
       "    }\n",
       "\n",
       "    .dataframe tbody tr th {\n",
       "        vertical-align: top;\n",
       "    }\n",
       "\n",
       "    .dataframe thead th {\n",
       "        text-align: right;\n",
       "    }\n",
       "</style>\n",
       "<table border=\"1\" class=\"dataframe\">\n",
       "  <thead>\n",
       "    <tr style=\"text-align: right;\">\n",
       "      <th></th>\n",
       "      <th>country</th>\n",
       "      <th>label_fertility_economy</th>\n",
       "    </tr>\n",
       "  </thead>\n",
       "  <tbody>\n",
       "    <tr>\n",
       "      <th>138</th>\n",
       "      <td>South Korea</td>\n",
       "      <td>0</td>\n",
       "    </tr>\n",
       "  </tbody>\n",
       "</table>\n",
       "</div>"
      ],
      "text/plain": [
       "         country  label_fertility_economy\n",
       "138  South Korea                        0"
      ]
     },
     "execution_count": 48,
     "metadata": {},
     "output_type": "execute_result"
    }
   ],
   "source": [
    "South_Korea(country_child0,\"label_fertility_economy\")"
   ]
  },
  {
   "cell_type": "code",
   "execution_count": 49,
   "id": "126a9d56-1d2c-4567-b4af-54cafe358467",
   "metadata": {},
   "outputs": [
    {
     "data": {
      "text/html": [
       "<div>\n",
       "<style scoped>\n",
       "    .dataframe tbody tr th:only-of-type {\n",
       "        vertical-align: middle;\n",
       "    }\n",
       "\n",
       "    .dataframe tbody tr th {\n",
       "        vertical-align: top;\n",
       "    }\n",
       "\n",
       "    .dataframe thead th {\n",
       "        text-align: right;\n",
       "    }\n",
       "</style>\n",
       "<table border=\"1\" class=\"dataframe\">\n",
       "  <thead>\n",
       "    <tr style=\"text-align: right;\">\n",
       "      <th></th>\n",
       "      <th>country</th>\n",
       "      <th>total_fer</th>\n",
       "    </tr>\n",
       "  </thead>\n",
       "  <tbody>\n",
       "    <tr>\n",
       "      <th>138</th>\n",
       "      <td>South Korea</td>\n",
       "      <td>1.23</td>\n",
       "    </tr>\n",
       "  </tbody>\n",
       "</table>\n",
       "</div>"
      ],
      "text/plain": [
       "         country  total_fer\n",
       "138  South Korea       1.23"
      ]
     },
     "execution_count": 49,
     "metadata": {},
     "output_type": "execute_result"
    }
   ],
   "source": [
    "South_Korea(country_child0,\"total_fer\")"
   ]
  },
  {
   "cell_type": "code",
   "execution_count": 50,
   "id": "ccee2499-8a83-4f18-a7c9-fd99a98cbb16",
   "metadata": {},
   "outputs": [
    {
     "name": "stderr",
     "output_type": "stream",
     "text": [
      "/var/folders/yd/plqzt5cj0m5blbgycq9b7d_40000gn/T/ipykernel_5145/776728116.py:3: FutureWarning: \n",
      "\n",
      "Passing `palette` without assigning `hue` is deprecated and will be removed in v0.14.0. Assign the `x` variable to `hue` and set `legend=False` for the same effect.\n",
      "\n",
      "  sns.violinplot(\n"
     ]
    },
    {
     "data": {
      "text/plain": [
       "<matplotlib.legend.Legend at 0x177e06750>"
      ]
     },
     "execution_count": 50,
     "metadata": {},
     "output_type": "execute_result"
    },
    {
     "data": {
      "image/png": "[encoded data removed]",
      "text/plain": [
       "<Figure size 640x480 with 1 Axes>"
      ]
     },
     "metadata": {},
     "output_type": "display_data"
    }
   ],
   "source": [
    "unique_labels = country_child0[\"label_fertility_economy\"].unique()\n",
    "palette = sns.color_palette(\"husl\", len(unique_labels))\n",
    "sns.violinplot(\n",
    "    x = \"label_fertility_economy\",\n",
    "    y = \"total_fer\",\n",
    "    data = country_child0,\n",
    "    palette = palette)\n",
    "plt.axhline(1.23, color = \"red\", linestyle = \"--\", label =\"SouthKorea\")\n",
    "plt.legend()"
   ]
  },
  {
   "cell_type": "code",
   "execution_count": 51,
   "id": "1fc1a9dc-3fd2-48f3-a513-552f5704cbcb",
   "metadata": {},
   "outputs": [
    {
     "data": {
      "text/html": [
       "<div>\n",
       "<style scoped>\n",
       "    .dataframe tbody tr th:only-of-type {\n",
       "        vertical-align: middle;\n",
       "    }\n",
       "\n",
       "    .dataframe tbody tr th {\n",
       "        vertical-align: top;\n",
       "    }\n",
       "\n",
       "    .dataframe thead th {\n",
       "        text-align: right;\n",
       "    }\n",
       "</style>\n",
       "<table border=\"1\" class=\"dataframe\">\n",
       "  <thead>\n",
       "    <tr style=\"text-align: right;\">\n",
       "      <th></th>\n",
       "      <th>country</th>\n",
       "      <th>gdpp</th>\n",
       "    </tr>\n",
       "  </thead>\n",
       "  <tbody>\n",
       "    <tr>\n",
       "      <th>138</th>\n",
       "      <td>South Korea</td>\n",
       "      <td>22100.0</td>\n",
       "    </tr>\n",
       "  </tbody>\n",
       "</table>\n",
       "</div>"
      ],
      "text/plain": [
       "         country     gdpp\n",
       "138  South Korea  22100.0"
      ]
     },
     "execution_count": 51,
     "metadata": {},
     "output_type": "execute_result"
    }
   ],
   "source": [
    "South_Korea(country_child0,\"gdpp\")"
   ]
  },
  {
   "cell_type": "code",
   "execution_count": 52,
   "id": "7916c5df-22a7-4860-bd2d-af31ea313c78",
   "metadata": {},
   "outputs": [
    {
     "name": "stderr",
     "output_type": "stream",
     "text": [
      "/var/folders/yd/plqzt5cj0m5blbgycq9b7d_40000gn/T/ipykernel_5145/1506890979.py:3: FutureWarning: \n",
      "\n",
      "Passing `palette` without assigning `hue` is deprecated and will be removed in v0.14.0. Assign the `x` variable to `hue` and set `legend=False` for the same effect.\n",
      "\n",
      "  sns.violinplot(\n"
     ]
    },
    {
     "data": {
      "text/plain": [
       "<matplotlib.legend.Legend at 0x308209250>"
      ]
     },
     "execution_count": 52,
     "metadata": {},
     "output_type": "execute_result"
    },
    {
     "data": {
      "image/png": "[encoded data removed]",
      "text/plain": [
       "<Figure size 640x480 with 1 Axes>"
      ]
     },
     "metadata": {},
     "output_type": "display_data"
    }
   ],
   "source": [
    "unique_labels = country_child0[\"label_fertility_economy\"].unique()\n",
    "palette = sns.color_palette(\"husl\", len(unique_labels))\n",
    "sns.violinplot(\n",
    "    x = \"label_fertility_economy\",\n",
    "    y = \"gdpp\",\n",
    "    data = country_child0,\n",
    "    palette = palette)\n",
    "plt.axhline(22100.0, color = \"red\", linestyle = \"--\", label =\"SouthKorea\")\n",
    "plt.legend()"
   ]
  },
  {
   "cell_type": "code",
   "execution_count": 53,
   "id": "4d38d807-6c23-4814-9ede-15325760df2a",
   "metadata": {},
   "outputs": [
    {
     "data": {
      "text/html": [
       "<div>\n",
       "<style scoped>\n",
       "    .dataframe tbody tr th:only-of-type {\n",
       "        vertical-align: middle;\n",
       "    }\n",
       "\n",
       "    .dataframe tbody tr th {\n",
       "        vertical-align: top;\n",
       "    }\n",
       "\n",
       "    .dataframe thead th {\n",
       "        text-align: right;\n",
       "    }\n",
       "</style>\n",
       "<table border=\"1\" class=\"dataframe\">\n",
       "  <thead>\n",
       "    <tr style=\"text-align: right;\">\n",
       "      <th></th>\n",
       "      <th>country</th>\n",
       "      <th>income</th>\n",
       "    </tr>\n",
       "  </thead>\n",
       "  <tbody>\n",
       "    <tr>\n",
       "      <th>138</th>\n",
       "      <td>South Korea</td>\n",
       "      <td>30400.0</td>\n",
       "    </tr>\n",
       "  </tbody>\n",
       "</table>\n",
       "</div>"
      ],
      "text/plain": [
       "         country   income\n",
       "138  South Korea  30400.0"
      ]
     },
     "execution_count": 53,
     "metadata": {},
     "output_type": "execute_result"
    }
   ],
   "source": [
    "South_Korea(country_child0,\"income\")"
   ]
  },
  {
   "cell_type": "code",
   "execution_count": 54,
   "id": "38112b7e-584e-48c9-834b-e25bda2f0df9",
   "metadata": {},
   "outputs": [
    {
     "name": "stderr",
     "output_type": "stream",
     "text": [
      "/var/folders/yd/plqzt5cj0m5blbgycq9b7d_40000gn/T/ipykernel_5145/1717338950.py:3: FutureWarning: \n",
      "\n",
      "Passing `palette` without assigning `hue` is deprecated and will be removed in v0.14.0. Assign the `x` variable to `hue` and set `legend=False` for the same effect.\n",
      "\n",
      "  sns.violinplot(\n"
     ]
    },
    {
     "data": {
      "text/plain": [
       "<matplotlib.legend.Legend at 0x3081ec890>"
      ]
     },
     "execution_count": 54,
     "metadata": {},
     "output_type": "execute_result"
    },
    {
     "data": {
      "image/png": "[encoded data removed]",
      "text/plain": [
       "<Figure size 640x480 with 1 Axes>"
      ]
     },
     "metadata": {},
     "output_type": "display_data"
    }
   ],
   "source": [
    "unique_labels = country_child0[\"label_fertility_economy\"].unique()\n",
    "palette = sns.color_palette(\"husl\", len(unique_labels))\n",
    "sns.violinplot(\n",
    "    x = \"label_fertility_economy\",\n",
    "    y = \"income\",\n",
    "    data = country_child0,\n",
    "    palette = palette)\n",
    "plt.axhline(30400.0, color = \"red\", linestyle = \"--\", label =\"SouthKorea\")\n",
    "plt.legend()"
   ]
  },
  {
   "cell_type": "markdown",
   "id": "53103027-bebb-4312-a593-a9bd63888141",
   "metadata": {},
   "source": [
    "# label2그룹에 속한 나라들을 살펴보자"
   ]
  },
  {
   "cell_type": "code",
   "execution_count": 55,
   "id": "b0aae7d1-b8ab-4d1d-b4b6-6a6ccd3d431b",
   "metadata": {},
   "outputs": [],
   "source": [
    "fecility_economy2 = country_child0[country_child0['label_fertility_economy'] == 2]"
   ]
  },
  {
   "cell_type": "code",
   "execution_count": 59,
   "id": "1d6aa174-7a82-4169-a039-9bf6c7879fba",
   "metadata": {},
   "outputs": [
    {
     "name": "stdout",
     "output_type": "stream",
     "text": [
      "<class 'pandas.core.frame.DataFrame'>\n",
      "Int64Index: 4 entries, 91 to 145\n",
      "Data columns (total 19 columns):\n",
      " #   Column                   Non-Null Count  Dtype  \n",
      "---  ------                   --------------  -----  \n",
      " 0   country                  4 non-null      object \n",
      " 1   child_mort               4 non-null      float64\n",
      " 2   exports                  4 non-null      float64\n",
      " 3   health                   4 non-null      float64\n",
      " 4   imports                  4 non-null      float64\n",
      " 5   income                   4 non-null      float64\n",
      " 6   inflation                4 non-null      float64\n",
      " 7   life_expec               4 non-null      float64\n",
      " 8   total_fer                4 non-null      float64\n",
      " 9   gdpp                     4 non-null      float64\n",
      " 10  region_1                 4 non-null      object \n",
      " 11  region_2                 0 non-null      object \n",
      " 12  continent                4 non-null      object \n",
      " 13  latitude                 4 non-null      float64\n",
      " 14  longitude                4 non-null      float64\n",
      " 15  label_child              4 non-null      int64  \n",
      " 16  log_gdpp                 4 non-null      float64\n",
      " 17  log_income               4 non-null      float64\n",
      " 18  label_fertility_economy  4 non-null      int64  \n",
      "dtypes: float64(13), int64(2), object(4)\n",
      "memory usage: 640.0+ bytes\n"
     ]
    }
   ],
   "source": [
    "fecility_economy2.info()"
   ]
  },
  {
   "cell_type": "code",
   "execution_count": 60,
   "id": "1e091c21-d483-4235-ad68-65f61ce8ff65",
   "metadata": {},
   "outputs": [
    {
     "data": {
      "text/html": [
       "<div>\n",
       "<style scoped>\n",
       "    .dataframe tbody tr th:only-of-type {\n",
       "        vertical-align: middle;\n",
       "    }\n",
       "\n",
       "    .dataframe tbody tr th {\n",
       "        vertical-align: top;\n",
       "    }\n",
       "\n",
       "    .dataframe thead th {\n",
       "        text-align: right;\n",
       "    }\n",
       "</style>\n",
       "<table border=\"1\" class=\"dataframe\">\n",
       "  <thead>\n",
       "    <tr style=\"text-align: right;\">\n",
       "      <th></th>\n",
       "      <th>country</th>\n",
       "      <th>latitude</th>\n",
       "      <th>longitude</th>\n",
       "    </tr>\n",
       "  </thead>\n",
       "  <tbody>\n",
       "    <tr>\n",
       "      <th>91</th>\n",
       "      <td>Luxembourg</td>\n",
       "      <td>49.815273</td>\n",
       "      <td>6.129583</td>\n",
       "    </tr>\n",
       "    <tr>\n",
       "      <th>114</th>\n",
       "      <td>Norway</td>\n",
       "      <td>60.472024</td>\n",
       "      <td>8.468946</td>\n",
       "    </tr>\n",
       "    <tr>\n",
       "      <th>123</th>\n",
       "      <td>Qatar</td>\n",
       "      <td>25.354826</td>\n",
       "      <td>51.183884</td>\n",
       "    </tr>\n",
       "    <tr>\n",
       "      <th>145</th>\n",
       "      <td>Switzerland</td>\n",
       "      <td>46.818188</td>\n",
       "      <td>8.227512</td>\n",
       "    </tr>\n",
       "  </tbody>\n",
       "</table>\n",
       "</div>"
      ],
      "text/plain": [
       "         country   latitude  longitude\n",
       "91    Luxembourg  49.815273   6.129583\n",
       "114       Norway  60.472024   8.468946\n",
       "123        Qatar  25.354826  51.183884\n",
       "145  Switzerland  46.818188   8.227512"
      ]
     },
     "execution_count": 60,
     "metadata": {},
     "output_type": "execute_result"
    }
   ],
   "source": [
    "fecility_economy2[['country','latitude','longitude']]"
   ]
  },
  {
   "cell_type": "code",
   "execution_count": 83,
   "id": "6284c9f2-7ba3-4064-a2cb-2463dd70c006",
   "metadata": {},
   "outputs": [],
   "source": [
    "def make_map(df):\n",
    "    map_center = [df['latitude'].mean(), df['longitude'].mean()]\n",
    "    map = folium.Map(location = map_center, zoom_start = 4)\n",
    "    for i in range(len(df)):\n",
    "        row = df.iloc[i]\n",
    "        name = row[\"country\"]\n",
    "        latitude = row[\"latitude\"]\n",
    "        logtitude = row[\"longitude\"]\n",
    "        folium.Marker([latitude, logtitude],popup = name).add_to(map)\n",
    "    return map"
   ]
  },
  {
   "cell_type": "code",
   "execution_count": 84,
   "id": "aff4ad16-f0a6-4415-8e3a-b9fde20f7c58",
   "metadata": {},
   "outputs": [
    {
     "data": {
      "text/html": [
       "<div style=\"width:100%;\"><div style=\"position:relative;width:100%;height:0;padding-bottom:60%;\"><span style=\"color:#565656\">Make this Notebook Trusted to load map: File -> Trust Notebook</span><iframe srcdoc=\"&lt;!DOCTYPE html&gt;\n",
       "&lt;html&gt;\n",
       "&lt;head&gt;\n",
       "    \n",
       "    &lt;meta http-equiv=&quot;content-type&quot; content=&quot;text/html; charset=UTF-8&quot; /&gt;\n",
       "    \n",
       "        &lt;script&gt;\n",
       "            L_NO_TOUCH = false;\n",
       "            L_DISABLE_3D = false;\n",
       "        &lt;/script&gt;\n",
       "    \n",
       "    &lt;style&gt;html, body {width: 100%;height: 100%;margin: 0;padding: 0;}&lt;/style&gt;\n",
       "    &lt;style&gt;#map {position:absolute;top:0;bottom:0;right:0;left:0;}&lt;/style&gt;\n",
       "    &lt;script src=&quot;https://cdn.jsdelivr.net/npm/leaflet@1.9.3/dist/leaflet.js&quot;&gt;&lt;/script&gt;\n",
       "    &lt;script src=&quot;https://code.jquery.com/jquery-3.7.1.min.js&quot;&gt;&lt;/script&gt;\n",
       "    &lt;script src=&quot;https://cdn.jsdelivr.net/npm/bootstrap@5.2.2/dist/js/bootstrap.bundle.min.js&quot;&gt;&lt;/script&gt;\n",
       "    &lt;script src=&quot;https://cdnjs.cloudflare.com/ajax/libs/Leaflet.awesome-markers/2.0.2/leaflet.awesome-markers.js&quot;&gt;&lt;/script&gt;\n",
       "    &lt;link rel=&quot;stylesheet&quot; href=&quot;https://cdn.jsdelivr.net/npm/leaflet@1.9.3/dist/leaflet.css&quot;/&gt;\n",
       "    &lt;link rel=&quot;stylesheet&quot; href=&quot;https://cdn.jsdelivr.net/npm/bootstrap@5.2.2/dist/css/bootstrap.min.css&quot;/&gt;\n",
       "    &lt;link rel=&quot;stylesheet&quot; href=&quot;https://netdna.bootstrapcdn.com/bootstrap/3.0.0/css/bootstrap-glyphicons.css&quot;/&gt;\n",
       "    &lt;link rel=&quot;stylesheet&quot; href=&quot;https://cdn.jsdelivr.net/npm/@fortawesome/fontawesome-free@6.2.0/css/all.min.css&quot;/&gt;\n",
       "    &lt;link rel=&quot;stylesheet&quot; href=&quot;https://cdnjs.cloudflare.com/ajax/libs/Leaflet.awesome-markers/2.0.2/leaflet.awesome-markers.css&quot;/&gt;\n",
       "    &lt;link rel=&quot;stylesheet&quot; href=&quot;https://cdn.jsdelivr.net/gh/python-visualization/folium/folium/templates/leaflet.awesome.rotate.min.css&quot;/&gt;\n",
       "    \n",
       "            &lt;meta name=&quot;viewport&quot; content=&quot;width=device-width,\n",
       "                initial-scale=1.0, maximum-scale=1.0, user-scalable=no&quot; /&gt;\n",
       "            &lt;style&gt;\n",
       "                #map_e6eb88e168875dc9f2bd7c672d6354b1 {\n",
       "                    position: relative;\n",
       "                    width: 100.0%;\n",
       "                    height: 100.0%;\n",
       "                    left: 0.0%;\n",
       "                    top: 0.0%;\n",
       "                }\n",
       "                .leaflet-container { font-size: 1rem; }\n",
       "            &lt;/style&gt;\n",
       "        \n",
       "&lt;/head&gt;\n",
       "&lt;body&gt;\n",
       "    \n",
       "    \n",
       "            &lt;div class=&quot;folium-map&quot; id=&quot;map_e6eb88e168875dc9f2bd7c672d6354b1&quot; &gt;&lt;/div&gt;\n",
       "        \n",
       "&lt;/body&gt;\n",
       "&lt;script&gt;\n",
       "    \n",
       "    \n",
       "            var map_e6eb88e168875dc9f2bd7c672d6354b1 = L.map(\n",
       "                &quot;map_e6eb88e168875dc9f2bd7c672d6354b1&quot;,\n",
       "                {\n",
       "                    center: [45.61507775, 18.502481250000002],\n",
       "                    crs: L.CRS.EPSG3857,\n",
       "                    zoom: 4,\n",
       "                    zoomControl: true,\n",
       "                    preferCanvas: false,\n",
       "                }\n",
       "            );\n",
       "\n",
       "            \n",
       "\n",
       "        \n",
       "    \n",
       "            var tile_layer_761f95780bd76aff47e3f5b765c50131 = L.tileLayer(\n",
       "                &quot;https://tile.openstreetmap.org/{z}/{x}/{y}.png&quot;,\n",
       "                {&quot;attribution&quot;: &quot;\\u0026copy; \\u003ca href=\\&quot;https://www.openstreetmap.org/copyright\\&quot;\\u003eOpenStreetMap\\u003c/a\\u003e contributors&quot;, &quot;detectRetina&quot;: false, &quot;maxNativeZoom&quot;: 19, &quot;maxZoom&quot;: 19, &quot;minZoom&quot;: 0, &quot;noWrap&quot;: false, &quot;opacity&quot;: 1, &quot;subdomains&quot;: &quot;abc&quot;, &quot;tms&quot;: false}\n",
       "            );\n",
       "        \n",
       "    \n",
       "            tile_layer_761f95780bd76aff47e3f5b765c50131.addTo(map_e6eb88e168875dc9f2bd7c672d6354b1);\n",
       "        \n",
       "    \n",
       "            var marker_5bec28fc1028b4588253c0b95b375608 = L.marker(\n",
       "                [49.815273, 6.129583],\n",
       "                {}\n",
       "            ).addTo(map_e6eb88e168875dc9f2bd7c672d6354b1);\n",
       "        \n",
       "    \n",
       "        var popup_0137d6325844abd139e82ceddf911510 = L.popup({&quot;maxWidth&quot;: &quot;100%&quot;});\n",
       "\n",
       "        \n",
       "            \n",
       "                var html_d68611f108a10533180b2156ed5fa560 = $(`&lt;div id=&quot;html_d68611f108a10533180b2156ed5fa560&quot; style=&quot;width: 100.0%; height: 100.0%;&quot;&gt;Luxembourg&lt;/div&gt;`)[0];\n",
       "                popup_0137d6325844abd139e82ceddf911510.setContent(html_d68611f108a10533180b2156ed5fa560);\n",
       "            \n",
       "        \n",
       "\n",
       "        marker_5bec28fc1028b4588253c0b95b375608.bindPopup(popup_0137d6325844abd139e82ceddf911510)\n",
       "        ;\n",
       "\n",
       "        \n",
       "    \n",
       "    \n",
       "            var marker_e4561fb0e61573f2f080e3123ada1cfe = L.marker(\n",
       "                [60.472024, 8.468946],\n",
       "                {}\n",
       "            ).addTo(map_e6eb88e168875dc9f2bd7c672d6354b1);\n",
       "        \n",
       "    \n",
       "        var popup_8aa597a1cc0f7d05a2ef2c7205845aa3 = L.popup({&quot;maxWidth&quot;: &quot;100%&quot;});\n",
       "\n",
       "        \n",
       "            \n",
       "                var html_0dd679b9807e536b255c2a2df57e028a = $(`&lt;div id=&quot;html_0dd679b9807e536b255c2a2df57e028a&quot; style=&quot;width: 100.0%; height: 100.0%;&quot;&gt;Norway&lt;/div&gt;`)[0];\n",
       "                popup_8aa597a1cc0f7d05a2ef2c7205845aa3.setContent(html_0dd679b9807e536b255c2a2df57e028a);\n",
       "            \n",
       "        \n",
       "\n",
       "        marker_e4561fb0e61573f2f080e3123ada1cfe.bindPopup(popup_8aa597a1cc0f7d05a2ef2c7205845aa3)\n",
       "        ;\n",
       "\n",
       "        \n",
       "    \n",
       "    \n",
       "            var marker_75c2826cc4199bc0d2747102f9f6f8fd = L.marker(\n",
       "                [25.354826, 51.183884],\n",
       "                {}\n",
       "            ).addTo(map_e6eb88e168875dc9f2bd7c672d6354b1);\n",
       "        \n",
       "    \n",
       "        var popup_290b09235d4c9df2a42a8af8cec3262f = L.popup({&quot;maxWidth&quot;: &quot;100%&quot;});\n",
       "\n",
       "        \n",
       "            \n",
       "                var html_3db985bf54a9b4fa186e53648931d609 = $(`&lt;div id=&quot;html_3db985bf54a9b4fa186e53648931d609&quot; style=&quot;width: 100.0%; height: 100.0%;&quot;&gt;Qatar&lt;/div&gt;`)[0];\n",
       "                popup_290b09235d4c9df2a42a8af8cec3262f.setContent(html_3db985bf54a9b4fa186e53648931d609);\n",
       "            \n",
       "        \n",
       "\n",
       "        marker_75c2826cc4199bc0d2747102f9f6f8fd.bindPopup(popup_290b09235d4c9df2a42a8af8cec3262f)\n",
       "        ;\n",
       "\n",
       "        \n",
       "    \n",
       "    \n",
       "            var marker_0f085625348f335198f385aa8797c9f5 = L.marker(\n",
       "                [46.818188, 8.227512],\n",
       "                {}\n",
       "            ).addTo(map_e6eb88e168875dc9f2bd7c672d6354b1);\n",
       "        \n",
       "    \n",
       "        var popup_3eb4e2546f71ae58c8a252942255037b = L.popup({&quot;maxWidth&quot;: &quot;100%&quot;});\n",
       "\n",
       "        \n",
       "            \n",
       "                var html_237051e0e1656e7f63f8b604f495bbcf = $(`&lt;div id=&quot;html_237051e0e1656e7f63f8b604f495bbcf&quot; style=&quot;width: 100.0%; height: 100.0%;&quot;&gt;Switzerland&lt;/div&gt;`)[0];\n",
       "                popup_3eb4e2546f71ae58c8a252942255037b.setContent(html_237051e0e1656e7f63f8b604f495bbcf);\n",
       "            \n",
       "        \n",
       "\n",
       "        marker_0f085625348f335198f385aa8797c9f5.bindPopup(popup_3eb4e2546f71ae58c8a252942255037b)\n",
       "        ;\n",
       "\n",
       "        \n",
       "    \n",
       "&lt;/script&gt;\n",
       "&lt;/html&gt;\" style=\"position:absolute;width:100%;height:100%;left:0;top:0;border:none !important;\" allowfullscreen webkitallowfullscreen mozallowfullscreen></iframe></div></div>"
      ],
      "text/plain": [
       "<folium.folium.Map at 0x30cf997d0>"
      ]
     },
     "execution_count": 84,
     "metadata": {},
     "output_type": "execute_result"
    }
   ],
   "source": [
    "make_map(fecility_economy2)"
   ]
  },
  {
   "cell_type": "markdown",
   "id": "d8bb1dd3-92fe-4cfc-87a2-01256eda483b",
   "metadata": {},
   "source": [
    "## 네나라모두 자원이 풍부하거나 글로벌 금융 서비스에서 경제적 강국을 이루고 있음, 대비 우리나라는 그런게 없음"
   ]
  },
  {
   "cell_type": "markdown",
   "id": "11f34f48-1c65-4627-883b-6a146babe1c9",
   "metadata": {},
   "source": [
    "# label0 그룹에 속한 나라들을 살펴보자"
   ]
  },
  {
   "cell_type": "code",
   "execution_count": 85,
   "id": "05215479-5864-45f3-a56e-a072e753e6c8",
   "metadata": {},
   "outputs": [],
   "source": [
    "fecility_economy0 = country_child0[country_child0['label_fertility_economy'] == 0].copy()"
   ]
  },
  {
   "cell_type": "code",
   "execution_count": 86,
   "id": "9bc88be9-52d1-4ace-938c-3bd2dd6c09f8",
   "metadata": {},
   "outputs": [
    {
     "name": "stdout",
     "output_type": "stream",
     "text": [
      "<class 'pandas.core.frame.DataFrame'>\n",
      "Int64Index: 34 entries, 7 to 159\n",
      "Data columns (total 19 columns):\n",
      " #   Column                   Non-Null Count  Dtype  \n",
      "---  ------                   --------------  -----  \n",
      " 0   country                  34 non-null     object \n",
      " 1   child_mort               34 non-null     float64\n",
      " 2   exports                  34 non-null     float64\n",
      " 3   health                   34 non-null     float64\n",
      " 4   imports                  34 non-null     float64\n",
      " 5   income                   34 non-null     float64\n",
      " 6   inflation                34 non-null     float64\n",
      " 7   life_expec               34 non-null     float64\n",
      " 8   total_fer                34 non-null     float64\n",
      " 9   gdpp                     34 non-null     float64\n",
      " 10  region_1                 34 non-null     object \n",
      " 11  region_2                 1 non-null      object \n",
      " 12  continent                34 non-null     object \n",
      " 13  latitude                 34 non-null     float64\n",
      " 14  longitude                34 non-null     float64\n",
      " 15  label_child              34 non-null     int64  \n",
      " 16  log_gdpp                 34 non-null     float64\n",
      " 17  log_income               34 non-null     float64\n",
      " 18  label_fertility_economy  34 non-null     int64  \n",
      "dtypes: float64(13), int64(2), object(4)\n",
      "memory usage: 5.3+ KB\n"
     ]
    }
   ],
   "source": [
    "fecility_economy0.info()"
   ]
  },
  {
   "cell_type": "code",
   "execution_count": 87,
   "id": "56725c6f-3774-4d37-a489-6341fb929a3b",
   "metadata": {},
   "outputs": [
    {
     "data": {
      "text/html": [
       "<div>\n",
       "<style scoped>\n",
       "    .dataframe tbody tr th:only-of-type {\n",
       "        vertical-align: middle;\n",
       "    }\n",
       "\n",
       "    .dataframe tbody tr th {\n",
       "        vertical-align: top;\n",
       "    }\n",
       "\n",
       "    .dataframe thead th {\n",
       "        text-align: right;\n",
       "    }\n",
       "</style>\n",
       "<table border=\"1\" class=\"dataframe\">\n",
       "  <thead>\n",
       "    <tr style=\"text-align: right;\">\n",
       "      <th></th>\n",
       "      <th>child_mort</th>\n",
       "      <th>exports</th>\n",
       "      <th>health</th>\n",
       "      <th>imports</th>\n",
       "      <th>income</th>\n",
       "      <th>inflation</th>\n",
       "      <th>life_expec</th>\n",
       "      <th>total_fer</th>\n",
       "      <th>gdpp</th>\n",
       "      <th>latitude</th>\n",
       "      <th>longitude</th>\n",
       "      <th>label_child</th>\n",
       "      <th>log_gdpp</th>\n",
       "      <th>log_income</th>\n",
       "      <th>label_fertility_economy</th>\n",
       "    </tr>\n",
       "  </thead>\n",
       "  <tbody>\n",
       "    <tr>\n",
       "      <th>child_mort</th>\n",
       "      <td>1.000000</td>\n",
       "      <td>0.015128</td>\n",
       "      <td>-0.488491</td>\n",
       "      <td>-0.132555</td>\n",
       "      <td>0.292860</td>\n",
       "      <td>0.747827</td>\n",
       "      <td>-0.830858</td>\n",
       "      <td>0.543102</td>\n",
       "      <td>-0.387963</td>\n",
       "      <td>-0.356882</td>\n",
       "      <td>-0.017057</td>\n",
       "      <td>NaN</td>\n",
       "      <td>-0.397028</td>\n",
       "      <td>0.244045</td>\n",
       "      <td>NaN</td>\n",
       "    </tr>\n",
       "    <tr>\n",
       "      <th>exports</th>\n",
       "      <td>0.015128</td>\n",
       "      <td>1.000000</td>\n",
       "      <td>-0.426117</td>\n",
       "      <td>0.951442</td>\n",
       "      <td>0.405295</td>\n",
       "      <td>0.107464</td>\n",
       "      <td>-0.022716</td>\n",
       "      <td>-0.161232</td>\n",
       "      <td>-0.050624</td>\n",
       "      <td>-0.099379</td>\n",
       "      <td>0.158283</td>\n",
       "      <td>NaN</td>\n",
       "      <td>-0.077141</td>\n",
       "      <td>0.363227</td>\n",
       "      <td>NaN</td>\n",
       "    </tr>\n",
       "    <tr>\n",
       "      <th>health</th>\n",
       "      <td>-0.488491</td>\n",
       "      <td>-0.426117</td>\n",
       "      <td>1.000000</td>\n",
       "      <td>-0.237398</td>\n",
       "      <td>-0.446742</td>\n",
       "      <td>-0.658331</td>\n",
       "      <td>0.438790</td>\n",
       "      <td>-0.270337</td>\n",
       "      <td>0.438866</td>\n",
       "      <td>0.374014</td>\n",
       "      <td>-0.496239</td>\n",
       "      <td>NaN</td>\n",
       "      <td>0.429897</td>\n",
       "      <td>-0.374523</td>\n",
       "      <td>NaN</td>\n",
       "    </tr>\n",
       "    <tr>\n",
       "      <th>imports</th>\n",
       "      <td>-0.132555</td>\n",
       "      <td>0.951442</td>\n",
       "      <td>-0.237398</td>\n",
       "      <td>1.000000</td>\n",
       "      <td>0.155918</td>\n",
       "      <td>-0.118927</td>\n",
       "      <td>0.082598</td>\n",
       "      <td>-0.301810</td>\n",
       "      <td>-0.062350</td>\n",
       "      <td>-0.025633</td>\n",
       "      <td>0.048241</td>\n",
       "      <td>NaN</td>\n",
       "      <td>-0.087431</td>\n",
       "      <td>0.119050</td>\n",
       "      <td>NaN</td>\n",
       "    </tr>\n",
       "    <tr>\n",
       "      <th>income</th>\n",
       "      <td>0.292860</td>\n",
       "      <td>0.405295</td>\n",
       "      <td>-0.446742</td>\n",
       "      <td>0.155918</td>\n",
       "      <td>1.000000</td>\n",
       "      <td>0.539060</td>\n",
       "      <td>-0.124851</td>\n",
       "      <td>0.125876</td>\n",
       "      <td>0.355630</td>\n",
       "      <td>-0.234172</td>\n",
       "      <td>0.237173</td>\n",
       "      <td>NaN</td>\n",
       "      <td>0.361725</td>\n",
       "      <td>0.980978</td>\n",
       "      <td>NaN</td>\n",
       "    </tr>\n",
       "    <tr>\n",
       "      <th>inflation</th>\n",
       "      <td>0.747827</td>\n",
       "      <td>0.107464</td>\n",
       "      <td>-0.658331</td>\n",
       "      <td>-0.118927</td>\n",
       "      <td>0.539060</td>\n",
       "      <td>1.000000</td>\n",
       "      <td>-0.591963</td>\n",
       "      <td>0.546397</td>\n",
       "      <td>-0.324055</td>\n",
       "      <td>-0.312236</td>\n",
       "      <td>0.253492</td>\n",
       "      <td>NaN</td>\n",
       "      <td>-0.333303</td>\n",
       "      <td>0.525175</td>\n",
       "      <td>NaN</td>\n",
       "    </tr>\n",
       "    <tr>\n",
       "      <th>life_expec</th>\n",
       "      <td>-0.830858</td>\n",
       "      <td>-0.022716</td>\n",
       "      <td>0.438790</td>\n",
       "      <td>0.082598</td>\n",
       "      <td>-0.124851</td>\n",
       "      <td>-0.591963</td>\n",
       "      <td>1.000000</td>\n",
       "      <td>-0.382935</td>\n",
       "      <td>0.505062</td>\n",
       "      <td>0.124421</td>\n",
       "      <td>0.138784</td>\n",
       "      <td>NaN</td>\n",
       "      <td>0.529467</td>\n",
       "      <td>-0.072793</td>\n",
       "      <td>NaN</td>\n",
       "    </tr>\n",
       "    <tr>\n",
       "      <th>total_fer</th>\n",
       "      <td>0.543102</td>\n",
       "      <td>-0.161232</td>\n",
       "      <td>-0.270337</td>\n",
       "      <td>-0.301810</td>\n",
       "      <td>0.125876</td>\n",
       "      <td>0.546397</td>\n",
       "      <td>-0.382935</td>\n",
       "      <td>1.000000</td>\n",
       "      <td>-0.105855</td>\n",
       "      <td>-0.157747</td>\n",
       "      <td>0.014425</td>\n",
       "      <td>NaN</td>\n",
       "      <td>-0.126189</td>\n",
       "      <td>0.168306</td>\n",
       "      <td>NaN</td>\n",
       "    </tr>\n",
       "    <tr>\n",
       "      <th>gdpp</th>\n",
       "      <td>-0.387963</td>\n",
       "      <td>-0.050624</td>\n",
       "      <td>0.438866</td>\n",
       "      <td>-0.062350</td>\n",
       "      <td>0.355630</td>\n",
       "      <td>-0.324055</td>\n",
       "      <td>0.505062</td>\n",
       "      <td>-0.105855</td>\n",
       "      <td>1.000000</td>\n",
       "      <td>0.177129</td>\n",
       "      <td>-0.118512</td>\n",
       "      <td>NaN</td>\n",
       "      <td>0.990339</td>\n",
       "      <td>0.440475</td>\n",
       "      <td>NaN</td>\n",
       "    </tr>\n",
       "    <tr>\n",
       "      <th>latitude</th>\n",
       "      <td>-0.356882</td>\n",
       "      <td>-0.099379</td>\n",
       "      <td>0.374014</td>\n",
       "      <td>-0.025633</td>\n",
       "      <td>-0.234172</td>\n",
       "      <td>-0.312236</td>\n",
       "      <td>0.124421</td>\n",
       "      <td>-0.157747</td>\n",
       "      <td>0.177129</td>\n",
       "      <td>1.000000</td>\n",
       "      <td>-0.670072</td>\n",
       "      <td>NaN</td>\n",
       "      <td>0.159139</td>\n",
       "      <td>-0.176458</td>\n",
       "      <td>NaN</td>\n",
       "    </tr>\n",
       "    <tr>\n",
       "      <th>longitude</th>\n",
       "      <td>-0.017057</td>\n",
       "      <td>0.158283</td>\n",
       "      <td>-0.496239</td>\n",
       "      <td>0.048241</td>\n",
       "      <td>0.237173</td>\n",
       "      <td>0.253492</td>\n",
       "      <td>0.138784</td>\n",
       "      <td>0.014425</td>\n",
       "      <td>-0.118512</td>\n",
       "      <td>-0.670072</td>\n",
       "      <td>1.000000</td>\n",
       "      <td>NaN</td>\n",
       "      <td>-0.113207</td>\n",
       "      <td>0.214475</td>\n",
       "      <td>NaN</td>\n",
       "    </tr>\n",
       "    <tr>\n",
       "      <th>label_child</th>\n",
       "      <td>NaN</td>\n",
       "      <td>NaN</td>\n",
       "      <td>NaN</td>\n",
       "      <td>NaN</td>\n",
       "      <td>NaN</td>\n",
       "      <td>NaN</td>\n",
       "      <td>NaN</td>\n",
       "      <td>NaN</td>\n",
       "      <td>NaN</td>\n",
       "      <td>NaN</td>\n",
       "      <td>NaN</td>\n",
       "      <td>NaN</td>\n",
       "      <td>NaN</td>\n",
       "      <td>NaN</td>\n",
       "      <td>NaN</td>\n",
       "    </tr>\n",
       "    <tr>\n",
       "      <th>log_gdpp</th>\n",
       "      <td>-0.397028</td>\n",
       "      <td>-0.077141</td>\n",
       "      <td>0.429897</td>\n",
       "      <td>-0.087431</td>\n",
       "      <td>0.361725</td>\n",
       "      <td>-0.333303</td>\n",
       "      <td>0.529467</td>\n",
       "      <td>-0.126189</td>\n",
       "      <td>0.990339</td>\n",
       "      <td>0.159139</td>\n",
       "      <td>-0.113207</td>\n",
       "      <td>NaN</td>\n",
       "      <td>1.000000</td>\n",
       "      <td>0.436778</td>\n",
       "      <td>NaN</td>\n",
       "    </tr>\n",
       "    <tr>\n",
       "      <th>log_income</th>\n",
       "      <td>0.244045</td>\n",
       "      <td>0.363227</td>\n",
       "      <td>-0.374523</td>\n",
       "      <td>0.119050</td>\n",
       "      <td>0.980978</td>\n",
       "      <td>0.525175</td>\n",
       "      <td>-0.072793</td>\n",
       "      <td>0.168306</td>\n",
       "      <td>0.440475</td>\n",
       "      <td>-0.176458</td>\n",
       "      <td>0.214475</td>\n",
       "      <td>NaN</td>\n",
       "      <td>0.436778</td>\n",
       "      <td>1.000000</td>\n",
       "      <td>NaN</td>\n",
       "    </tr>\n",
       "    <tr>\n",
       "      <th>label_fertility_economy</th>\n",
       "      <td>NaN</td>\n",
       "      <td>NaN</td>\n",
       "      <td>NaN</td>\n",
       "      <td>NaN</td>\n",
       "      <td>NaN</td>\n",
       "      <td>NaN</td>\n",
       "      <td>NaN</td>\n",
       "      <td>NaN</td>\n",
       "      <td>NaN</td>\n",
       "      <td>NaN</td>\n",
       "      <td>NaN</td>\n",
       "      <td>NaN</td>\n",
       "      <td>NaN</td>\n",
       "      <td>NaN</td>\n",
       "      <td>NaN</td>\n",
       "    </tr>\n",
       "  </tbody>\n",
       "</table>\n",
       "</div>"
      ],
      "text/plain": [
       "                         child_mort   exports    health   imports    income  \\\n",
       "child_mort                 1.000000  0.015128 -0.488491 -0.132555  0.292860   \n",
       "exports                    0.015128  1.000000 -0.426117  0.951442  0.405295   \n",
       "health                    -0.488491 -0.426117  1.000000 -0.237398 -0.446742   \n",
       "imports                   -0.132555  0.951442 -0.237398  1.000000  0.155918   \n",
       "income                     0.292860  0.405295 -0.446742  0.155918  1.000000   \n",
       "inflation                  0.747827  0.107464 -0.658331 -0.118927  0.539060   \n",
       "life_expec                -0.830858 -0.022716  0.438790  0.082598 -0.124851   \n",
       "total_fer                  0.543102 -0.161232 -0.270337 -0.301810  0.125876   \n",
       "gdpp                      -0.387963 -0.050624  0.438866 -0.062350  0.355630   \n",
       "latitude                  -0.356882 -0.099379  0.374014 -0.025633 -0.234172   \n",
       "longitude                 -0.017057  0.158283 -0.496239  0.048241  0.237173   \n",
       "label_child                     NaN       NaN       NaN       NaN       NaN   \n",
       "log_gdpp                  -0.397028 -0.077141  0.429897 -0.087431  0.361725   \n",
       "log_income                 0.244045  0.363227 -0.374523  0.119050  0.980978   \n",
       "label_fertility_economy         NaN       NaN       NaN       NaN       NaN   \n",
       "\n",
       "                         inflation  life_expec  total_fer      gdpp  latitude  \\\n",
       "child_mort                0.747827   -0.830858   0.543102 -0.387963 -0.356882   \n",
       "exports                   0.107464   -0.022716  -0.161232 -0.050624 -0.099379   \n",
       "health                   -0.658331    0.438790  -0.270337  0.438866  0.374014   \n",
       "imports                  -0.118927    0.082598  -0.301810 -0.062350 -0.025633   \n",
       "income                    0.539060   -0.124851   0.125876  0.355630 -0.234172   \n",
       "inflation                 1.000000   -0.591963   0.546397 -0.324055 -0.312236   \n",
       "life_expec               -0.591963    1.000000  -0.382935  0.505062  0.124421   \n",
       "total_fer                 0.546397   -0.382935   1.000000 -0.105855 -0.157747   \n",
       "gdpp                     -0.324055    0.505062  -0.105855  1.000000  0.177129   \n",
       "latitude                 -0.312236    0.124421  -0.157747  0.177129  1.000000   \n",
       "longitude                 0.253492    0.138784   0.014425 -0.118512 -0.670072   \n",
       "label_child                    NaN         NaN        NaN       NaN       NaN   \n",
       "log_gdpp                 -0.333303    0.529467  -0.126189  0.990339  0.159139   \n",
       "log_income                0.525175   -0.072793   0.168306  0.440475 -0.176458   \n",
       "label_fertility_economy        NaN         NaN        NaN       NaN       NaN   \n",
       "\n",
       "                         longitude  label_child  log_gdpp  log_income  \\\n",
       "child_mort               -0.017057          NaN -0.397028    0.244045   \n",
       "exports                   0.158283          NaN -0.077141    0.363227   \n",
       "health                   -0.496239          NaN  0.429897   -0.374523   \n",
       "imports                   0.048241          NaN -0.087431    0.119050   \n",
       "income                    0.237173          NaN  0.361725    0.980978   \n",
       "inflation                 0.253492          NaN -0.333303    0.525175   \n",
       "life_expec                0.138784          NaN  0.529467   -0.072793   \n",
       "total_fer                 0.014425          NaN -0.126189    0.168306   \n",
       "gdpp                     -0.118512          NaN  0.990339    0.440475   \n",
       "latitude                 -0.670072          NaN  0.159139   -0.176458   \n",
       "longitude                 1.000000          NaN -0.113207    0.214475   \n",
       "label_child                    NaN          NaN       NaN         NaN   \n",
       "log_gdpp                 -0.113207          NaN  1.000000    0.436778   \n",
       "log_income                0.214475          NaN  0.436778    1.000000   \n",
       "label_fertility_economy        NaN          NaN       NaN         NaN   \n",
       "\n",
       "                         label_fertility_economy  \n",
       "child_mort                                   NaN  \n",
       "exports                                      NaN  \n",
       "health                                       NaN  \n",
       "imports                                      NaN  \n",
       "income                                       NaN  \n",
       "inflation                                    NaN  \n",
       "life_expec                                   NaN  \n",
       "total_fer                                    NaN  \n",
       "gdpp                                         NaN  \n",
       "latitude                                     NaN  \n",
       "longitude                                    NaN  \n",
       "label_child                                  NaN  \n",
       "log_gdpp                                     NaN  \n",
       "log_income                                   NaN  \n",
       "label_fertility_economy                      NaN  "
      ]
     },
     "execution_count": 87,
     "metadata": {},
     "output_type": "execute_result"
    }
   ],
   "source": [
    "fecility_economy0.corr(numeric_only=True)"
   ]
  },
  {
   "cell_type": "code",
   "execution_count": 88,
   "id": "dc762261-fbb8-43b2-a9f3-8d9a3f46aedd",
   "metadata": {},
   "outputs": [
    {
     "data": {
      "text/html": [
       "<div style=\"width:100%;\"><div style=\"position:relative;width:100%;height:0;padding-bottom:60%;\"><span style=\"color:#565656\">Make this Notebook Trusted to load map: File -> Trust Notebook</span><iframe srcdoc=\"&lt;!DOCTYPE html&gt;\n",
       "&lt;html&gt;\n",
       "&lt;head&gt;\n",
       "    \n",
       "    &lt;meta http-equiv=&quot;content-type&quot; content=&quot;text/html; charset=UTF-8&quot; /&gt;\n",
       "    \n",
       "        &lt;script&gt;\n",
       "            L_NO_TOUCH = false;\n",
       "            L_DISABLE_3D = false;\n",
       "        &lt;/script&gt;\n",
       "    \n",
       "    &lt;style&gt;html, body {width: 100%;height: 100%;margin: 0;padding: 0;}&lt;/style&gt;\n",
       "    &lt;style&gt;#map {position:absolute;top:0;bottom:0;right:0;left:0;}&lt;/style&gt;\n",
       "    &lt;script src=&quot;https://cdn.jsdelivr.net/npm/leaflet@1.9.3/dist/leaflet.js&quot;&gt;&lt;/script&gt;\n",
       "    &lt;script src=&quot;https://code.jquery.com/jquery-3.7.1.min.js&quot;&gt;&lt;/script&gt;\n",
       "    &lt;script src=&quot;https://cdn.jsdelivr.net/npm/bootstrap@5.2.2/dist/js/bootstrap.bundle.min.js&quot;&gt;&lt;/script&gt;\n",
       "    &lt;script src=&quot;https://cdnjs.cloudflare.com/ajax/libs/Leaflet.awesome-markers/2.0.2/leaflet.awesome-markers.js&quot;&gt;&lt;/script&gt;\n",
       "    &lt;link rel=&quot;stylesheet&quot; href=&quot;https://cdn.jsdelivr.net/npm/leaflet@1.9.3/dist/leaflet.css&quot;/&gt;\n",
       "    &lt;link rel=&quot;stylesheet&quot; href=&quot;https://cdn.jsdelivr.net/npm/bootstrap@5.2.2/dist/css/bootstrap.min.css&quot;/&gt;\n",
       "    &lt;link rel=&quot;stylesheet&quot; href=&quot;https://netdna.bootstrapcdn.com/bootstrap/3.0.0/css/bootstrap-glyphicons.css&quot;/&gt;\n",
       "    &lt;link rel=&quot;stylesheet&quot; href=&quot;https://cdn.jsdelivr.net/npm/@fortawesome/fontawesome-free@6.2.0/css/all.min.css&quot;/&gt;\n",
       "    &lt;link rel=&quot;stylesheet&quot; href=&quot;https://cdnjs.cloudflare.com/ajax/libs/Leaflet.awesome-markers/2.0.2/leaflet.awesome-markers.css&quot;/&gt;\n",
       "    &lt;link rel=&quot;stylesheet&quot; href=&quot;https://cdn.jsdelivr.net/gh/python-visualization/folium/folium/templates/leaflet.awesome.rotate.min.css&quot;/&gt;\n",
       "    \n",
       "            &lt;meta name=&quot;viewport&quot; content=&quot;width=device-width,\n",
       "                initial-scale=1.0, maximum-scale=1.0, user-scalable=no&quot; /&gt;\n",
       "            &lt;style&gt;\n",
       "                #map_77757f83097643e2fa22372218d285f6 {\n",
       "                    position: relative;\n",
       "                    width: 100.0%;\n",
       "                    height: 100.0%;\n",
       "                    left: 0.0%;\n",
       "                    top: 0.0%;\n",
       "                }\n",
       "                .leaflet-container { font-size: 1rem; }\n",
       "            &lt;/style&gt;\n",
       "        \n",
       "&lt;/head&gt;\n",
       "&lt;body&gt;\n",
       "    \n",
       "    \n",
       "            &lt;div class=&quot;folium-map&quot; id=&quot;map_77757f83097643e2fa22372218d285f6&quot; &gt;&lt;/div&gt;\n",
       "        \n",
       "&lt;/body&gt;\n",
       "&lt;script&gt;\n",
       "    \n",
       "    \n",
       "            var map_77757f83097643e2fa22372218d285f6 = L.map(\n",
       "                &quot;map_77757f83097643e2fa22372218d285f6&quot;,\n",
       "                {\n",
       "                    center: [35.66615323529411, 28.30749726470588],\n",
       "                    crs: L.CRS.EPSG3857,\n",
       "                    zoom: 4,\n",
       "                    zoomControl: true,\n",
       "                    preferCanvas: false,\n",
       "                }\n",
       "            );\n",
       "\n",
       "            \n",
       "\n",
       "        \n",
       "    \n",
       "            var tile_layer_7bd64788d9961667bebf68e6818e07eb = L.tileLayer(\n",
       "                &quot;https://tile.openstreetmap.org/{z}/{x}/{y}.png&quot;,\n",
       "                {&quot;attribution&quot;: &quot;\\u0026copy; \\u003ca href=\\&quot;https://www.openstreetmap.org/copyright\\&quot;\\u003eOpenStreetMap\\u003c/a\\u003e contributors&quot;, &quot;detectRetina&quot;: false, &quot;maxNativeZoom&quot;: 19, &quot;maxZoom&quot;: 19, &quot;minZoom&quot;: 0, &quot;noWrap&quot;: false, &quot;opacity&quot;: 1, &quot;subdomains&quot;: &quot;abc&quot;, &quot;tms&quot;: false}\n",
       "            );\n",
       "        \n",
       "    \n",
       "            tile_layer_7bd64788d9961667bebf68e6818e07eb.addTo(map_77757f83097643e2fa22372218d285f6);\n",
       "        \n",
       "    \n",
       "            var marker_9b862d4e4786e691cd7e6662fceeeb41 = L.marker(\n",
       "                [-25.274398, 133.775136],\n",
       "                {}\n",
       "            ).addTo(map_77757f83097643e2fa22372218d285f6);\n",
       "        \n",
       "    \n",
       "        var popup_0c9fb223c167a6613f8af27c8e563fa8 = L.popup({&quot;maxWidth&quot;: &quot;100%&quot;});\n",
       "\n",
       "        \n",
       "            \n",
       "                var html_2d09b385dae1fbc2f519309404574815 = $(`&lt;div id=&quot;html_2d09b385dae1fbc2f519309404574815&quot; style=&quot;width: 100.0%; height: 100.0%;&quot;&gt;Australia&lt;/div&gt;`)[0];\n",
       "                popup_0c9fb223c167a6613f8af27c8e563fa8.setContent(html_2d09b385dae1fbc2f519309404574815);\n",
       "            \n",
       "        \n",
       "\n",
       "        marker_9b862d4e4786e691cd7e6662fceeeb41.bindPopup(popup_0c9fb223c167a6613f8af27c8e563fa8)\n",
       "        ;\n",
       "\n",
       "        \n",
       "    \n",
       "    \n",
       "            var marker_1c24ecc661c43dbe7513e8ee3954d213 = L.marker(\n",
       "                [47.516231, 14.550072],\n",
       "                {}\n",
       "            ).addTo(map_77757f83097643e2fa22372218d285f6);\n",
       "        \n",
       "    \n",
       "        var popup_1b9f027e4f9c321e58c3e3de0e505dcf = L.popup({&quot;maxWidth&quot;: &quot;100%&quot;});\n",
       "\n",
       "        \n",
       "            \n",
       "                var html_82414b1e95d3553b0db2e849e27d46eb = $(`&lt;div id=&quot;html_82414b1e95d3553b0db2e849e27d46eb&quot; style=&quot;width: 100.0%; height: 100.0%;&quot;&gt;Austria&lt;/div&gt;`)[0];\n",
       "                popup_1b9f027e4f9c321e58c3e3de0e505dcf.setContent(html_82414b1e95d3553b0db2e849e27d46eb);\n",
       "            \n",
       "        \n",
       "\n",
       "        marker_1c24ecc661c43dbe7513e8ee3954d213.bindPopup(popup_1b9f027e4f9c321e58c3e3de0e505dcf)\n",
       "        ;\n",
       "\n",
       "        \n",
       "    \n",
       "    \n",
       "            var marker_583d5feed2aeb45d4013605043cac05b = L.marker(\n",
       "                [25.03428, -77.39628],\n",
       "                {}\n",
       "            ).addTo(map_77757f83097643e2fa22372218d285f6);\n",
       "        \n",
       "    \n",
       "        var popup_ce37b56bf4f7f09d5d826e135c7cf993 = L.popup({&quot;maxWidth&quot;: &quot;100%&quot;});\n",
       "\n",
       "        \n",
       "            \n",
       "                var html_d886663b5a994172ad41b39231bc53b3 = $(`&lt;div id=&quot;html_d886663b5a994172ad41b39231bc53b3&quot; style=&quot;width: 100.0%; height: 100.0%;&quot;&gt;Bahamas&lt;/div&gt;`)[0];\n",
       "                popup_ce37b56bf4f7f09d5d826e135c7cf993.setContent(html_d886663b5a994172ad41b39231bc53b3);\n",
       "            \n",
       "        \n",
       "\n",
       "        marker_583d5feed2aeb45d4013605043cac05b.bindPopup(popup_ce37b56bf4f7f09d5d826e135c7cf993)\n",
       "        ;\n",
       "\n",
       "        \n",
       "    \n",
       "    \n",
       "            var marker_ee7cc1801687c5c34aea39e586a9fc2d = L.marker(\n",
       "                [25.930414, 50.637772],\n",
       "                {}\n",
       "            ).addTo(map_77757f83097643e2fa22372218d285f6);\n",
       "        \n",
       "    \n",
       "        var popup_98c449d0cdcd803083ccb154a1c3829e = L.popup({&quot;maxWidth&quot;: &quot;100%&quot;});\n",
       "\n",
       "        \n",
       "            \n",
       "                var html_fade7ad5ad0764b7ad588e6a0925acf0 = $(`&lt;div id=&quot;html_fade7ad5ad0764b7ad588e6a0925acf0&quot; style=&quot;width: 100.0%; height: 100.0%;&quot;&gt;Bahrain&lt;/div&gt;`)[0];\n",
       "                popup_98c449d0cdcd803083ccb154a1c3829e.setContent(html_fade7ad5ad0764b7ad588e6a0925acf0);\n",
       "            \n",
       "        \n",
       "\n",
       "        marker_ee7cc1801687c5c34aea39e586a9fc2d.bindPopup(popup_98c449d0cdcd803083ccb154a1c3829e)\n",
       "        ;\n",
       "\n",
       "        \n",
       "    \n",
       "    \n",
       "            var marker_72da93582ca696d62234063fbcc58b3a = L.marker(\n",
       "                [50.503887, 4.469936],\n",
       "                {}\n",
       "            ).addTo(map_77757f83097643e2fa22372218d285f6);\n",
       "        \n",
       "    \n",
       "        var popup_435fe297edcfc576ff36166b39018527 = L.popup({&quot;maxWidth&quot;: &quot;100%&quot;});\n",
       "\n",
       "        \n",
       "            \n",
       "                var html_737c05e7c0994db2e298f11059a966c4 = $(`&lt;div id=&quot;html_737c05e7c0994db2e298f11059a966c4&quot; style=&quot;width: 100.0%; height: 100.0%;&quot;&gt;Belgium&lt;/div&gt;`)[0];\n",
       "                popup_435fe297edcfc576ff36166b39018527.setContent(html_737c05e7c0994db2e298f11059a966c4);\n",
       "            \n",
       "        \n",
       "\n",
       "        marker_72da93582ca696d62234063fbcc58b3a.bindPopup(popup_435fe297edcfc576ff36166b39018527)\n",
       "        ;\n",
       "\n",
       "        \n",
       "    \n",
       "    \n",
       "            var marker_83b6d4e8508c03b6f5f220d1d60b6ea5 = L.marker(\n",
       "                [4.535277, 114.727669],\n",
       "                {}\n",
       "            ).addTo(map_77757f83097643e2fa22372218d285f6);\n",
       "        \n",
       "    \n",
       "        var popup_729bd76f8d6f14a6f16719a70e93641d = L.popup({&quot;maxWidth&quot;: &quot;100%&quot;});\n",
       "\n",
       "        \n",
       "            \n",
       "                var html_042e5850a91ccc86d4c89b03f6e102d0 = $(`&lt;div id=&quot;html_042e5850a91ccc86d4c89b03f6e102d0&quot; style=&quot;width: 100.0%; height: 100.0%;&quot;&gt;Brunei&lt;/div&gt;`)[0];\n",
       "                popup_729bd76f8d6f14a6f16719a70e93641d.setContent(html_042e5850a91ccc86d4c89b03f6e102d0);\n",
       "            \n",
       "        \n",
       "\n",
       "        marker_83b6d4e8508c03b6f5f220d1d60b6ea5.bindPopup(popup_729bd76f8d6f14a6f16719a70e93641d)\n",
       "        ;\n",
       "\n",
       "        \n",
       "    \n",
       "    \n",
       "            var marker_075cba2e194cb72a78df636458d2219c = L.marker(\n",
       "                [56.130366, -106.346771],\n",
       "                {}\n",
       "            ).addTo(map_77757f83097643e2fa22372218d285f6);\n",
       "        \n",
       "    \n",
       "        var popup_c3583c9596dc8215ef7fee0f5b85e6c2 = L.popup({&quot;maxWidth&quot;: &quot;100%&quot;});\n",
       "\n",
       "        \n",
       "            \n",
       "                var html_9af17047a9a10f18b1b704cc82561e58 = $(`&lt;div id=&quot;html_9af17047a9a10f18b1b704cc82561e58&quot; style=&quot;width: 100.0%; height: 100.0%;&quot;&gt;Canada&lt;/div&gt;`)[0];\n",
       "                popup_c3583c9596dc8215ef7fee0f5b85e6c2.setContent(html_9af17047a9a10f18b1b704cc82561e58);\n",
       "            \n",
       "        \n",
       "\n",
       "        marker_075cba2e194cb72a78df636458d2219c.bindPopup(popup_c3583c9596dc8215ef7fee0f5b85e6c2)\n",
       "        ;\n",
       "\n",
       "        \n",
       "    \n",
       "    \n",
       "            var marker_b5f5d04901de77a4bc7dcceb652e1c25 = L.marker(\n",
       "                [35.126413, 33.429859],\n",
       "                {}\n",
       "            ).addTo(map_77757f83097643e2fa22372218d285f6);\n",
       "        \n",
       "    \n",
       "        var popup_04adde6ac3d7996244ef0570e4e6992e = L.popup({&quot;maxWidth&quot;: &quot;100%&quot;});\n",
       "\n",
       "        \n",
       "            \n",
       "                var html_e824e5c013a9fbdd9f31848b9b410378 = $(`&lt;div id=&quot;html_e824e5c013a9fbdd9f31848b9b410378&quot; style=&quot;width: 100.0%; height: 100.0%;&quot;&gt;Cyprus&lt;/div&gt;`)[0];\n",
       "                popup_04adde6ac3d7996244ef0570e4e6992e.setContent(html_e824e5c013a9fbdd9f31848b9b410378);\n",
       "            \n",
       "        \n",
       "\n",
       "        marker_b5f5d04901de77a4bc7dcceb652e1c25.bindPopup(popup_04adde6ac3d7996244ef0570e4e6992e)\n",
       "        ;\n",
       "\n",
       "        \n",
       "    \n",
       "    \n",
       "            var marker_91ed7a4930da00f2e9d9784471794179 = L.marker(\n",
       "                [49.817492, 15.472962],\n",
       "                {}\n",
       "            ).addTo(map_77757f83097643e2fa22372218d285f6);\n",
       "        \n",
       "    \n",
       "        var popup_593d90b31d464c2b29e9c7df718e94c9 = L.popup({&quot;maxWidth&quot;: &quot;100%&quot;});\n",
       "\n",
       "        \n",
       "            \n",
       "                var html_cbb196121861d5244c73face79fa378c = $(`&lt;div id=&quot;html_cbb196121861d5244c73face79fa378c&quot; style=&quot;width: 100.0%; height: 100.0%;&quot;&gt;Czech Republic&lt;/div&gt;`)[0];\n",
       "                popup_593d90b31d464c2b29e9c7df718e94c9.setContent(html_cbb196121861d5244c73face79fa378c);\n",
       "            \n",
       "        \n",
       "\n",
       "        marker_91ed7a4930da00f2e9d9784471794179.bindPopup(popup_593d90b31d464c2b29e9c7df718e94c9)\n",
       "        ;\n",
       "\n",
       "        \n",
       "    \n",
       "    \n",
       "            var marker_43b454dca75096eba133f041ffc7d305 = L.marker(\n",
       "                [56.26392, 9.501785],\n",
       "                {}\n",
       "            ).addTo(map_77757f83097643e2fa22372218d285f6);\n",
       "        \n",
       "    \n",
       "        var popup_434d87cd8bc5f31465d5a2100bbb9c57 = L.popup({&quot;maxWidth&quot;: &quot;100%&quot;});\n",
       "\n",
       "        \n",
       "            \n",
       "                var html_e98802db7c8b20797ebf7345c5f9e286 = $(`&lt;div id=&quot;html_e98802db7c8b20797ebf7345c5f9e286&quot; style=&quot;width: 100.0%; height: 100.0%;&quot;&gt;Denmark&lt;/div&gt;`)[0];\n",
       "                popup_434d87cd8bc5f31465d5a2100bbb9c57.setContent(html_e98802db7c8b20797ebf7345c5f9e286);\n",
       "            \n",
       "        \n",
       "\n",
       "        marker_43b454dca75096eba133f041ffc7d305.bindPopup(popup_434d87cd8bc5f31465d5a2100bbb9c57)\n",
       "        ;\n",
       "\n",
       "        \n",
       "    \n",
       "    \n",
       "            var marker_9d76ed4bc5d0da2781cd3e82acbc72b2 = L.marker(\n",
       "                [61.92411, 25.748151],\n",
       "                {}\n",
       "            ).addTo(map_77757f83097643e2fa22372218d285f6);\n",
       "        \n",
       "    \n",
       "        var popup_7269d5f46bfe787eaaab8f9dd31da814 = L.popup({&quot;maxWidth&quot;: &quot;100%&quot;});\n",
       "\n",
       "        \n",
       "            \n",
       "                var html_39bfcb062aba0af8ebf71792cadde89d = $(`&lt;div id=&quot;html_39bfcb062aba0af8ebf71792cadde89d&quot; style=&quot;width: 100.0%; height: 100.0%;&quot;&gt;Finland&lt;/div&gt;`)[0];\n",
       "                popup_7269d5f46bfe787eaaab8f9dd31da814.setContent(html_39bfcb062aba0af8ebf71792cadde89d);\n",
       "            \n",
       "        \n",
       "\n",
       "        marker_9d76ed4bc5d0da2781cd3e82acbc72b2.bindPopup(popup_7269d5f46bfe787eaaab8f9dd31da814)\n",
       "        ;\n",
       "\n",
       "        \n",
       "    \n",
       "    \n",
       "            var marker_42a39d3fef77f7cbd539ba55bb3bd697 = L.marker(\n",
       "                [46.227638, 2.213749],\n",
       "                {}\n",
       "            ).addTo(map_77757f83097643e2fa22372218d285f6);\n",
       "        \n",
       "    \n",
       "        var popup_219324cb25347ea7f4cd8a568e8768b8 = L.popup({&quot;maxWidth&quot;: &quot;100%&quot;});\n",
       "\n",
       "        \n",
       "            \n",
       "                var html_8d957d646de5f973a10591de29f33588 = $(`&lt;div id=&quot;html_8d957d646de5f973a10591de29f33588&quot; style=&quot;width: 100.0%; height: 100.0%;&quot;&gt;France&lt;/div&gt;`)[0];\n",
       "                popup_219324cb25347ea7f4cd8a568e8768b8.setContent(html_8d957d646de5f973a10591de29f33588);\n",
       "            \n",
       "        \n",
       "\n",
       "        marker_42a39d3fef77f7cbd539ba55bb3bd697.bindPopup(popup_219324cb25347ea7f4cd8a568e8768b8)\n",
       "        ;\n",
       "\n",
       "        \n",
       "    \n",
       "    \n",
       "            var marker_59351ecb2a0d849c54ba33c65baa8802 = L.marker(\n",
       "                [51.165691, 10.451526],\n",
       "                {}\n",
       "            ).addTo(map_77757f83097643e2fa22372218d285f6);\n",
       "        \n",
       "    \n",
       "        var popup_110c4a131c201e464ef9f14ed1fbacae = L.popup({&quot;maxWidth&quot;: &quot;100%&quot;});\n",
       "\n",
       "        \n",
       "            \n",
       "                var html_4e9120f380084f8d7901a9ea9fdd1837 = $(`&lt;div id=&quot;html_4e9120f380084f8d7901a9ea9fdd1837&quot; style=&quot;width: 100.0%; height: 100.0%;&quot;&gt;Germany&lt;/div&gt;`)[0];\n",
       "                popup_110c4a131c201e464ef9f14ed1fbacae.setContent(html_4e9120f380084f8d7901a9ea9fdd1837);\n",
       "            \n",
       "        \n",
       "\n",
       "        marker_59351ecb2a0d849c54ba33c65baa8802.bindPopup(popup_110c4a131c201e464ef9f14ed1fbacae)\n",
       "        ;\n",
       "\n",
       "        \n",
       "    \n",
       "    \n",
       "            var marker_536671b7224be05fd757af5acabaea39 = L.marker(\n",
       "                [39.074208, 21.824312],\n",
       "                {}\n",
       "            ).addTo(map_77757f83097643e2fa22372218d285f6);\n",
       "        \n",
       "    \n",
       "        var popup_bbf218d82b1da458576ec6bd3131567e = L.popup({&quot;maxWidth&quot;: &quot;100%&quot;});\n",
       "\n",
       "        \n",
       "            \n",
       "                var html_361750c860e80182933fda49f54f22b8 = $(`&lt;div id=&quot;html_361750c860e80182933fda49f54f22b8&quot; style=&quot;width: 100.0%; height: 100.0%;&quot;&gt;Greece&lt;/div&gt;`)[0];\n",
       "                popup_bbf218d82b1da458576ec6bd3131567e.setContent(html_361750c860e80182933fda49f54f22b8);\n",
       "            \n",
       "        \n",
       "\n",
       "        marker_536671b7224be05fd757af5acabaea39.bindPopup(popup_bbf218d82b1da458576ec6bd3131567e)\n",
       "        ;\n",
       "\n",
       "        \n",
       "    \n",
       "    \n",
       "            var marker_4b3e83d3a9ac47290d151b2b2cd8c2f2 = L.marker(\n",
       "                [64.963051, -19.020835],\n",
       "                {}\n",
       "            ).addTo(map_77757f83097643e2fa22372218d285f6);\n",
       "        \n",
       "    \n",
       "        var popup_63ab88c81e6b06d0cb5506be4e442e04 = L.popup({&quot;maxWidth&quot;: &quot;100%&quot;});\n",
       "\n",
       "        \n",
       "            \n",
       "                var html_55e3111306b662f6f0ee5cbf40070821 = $(`&lt;div id=&quot;html_55e3111306b662f6f0ee5cbf40070821&quot; style=&quot;width: 100.0%; height: 100.0%;&quot;&gt;Iceland&lt;/div&gt;`)[0];\n",
       "                popup_63ab88c81e6b06d0cb5506be4e442e04.setContent(html_55e3111306b662f6f0ee5cbf40070821);\n",
       "            \n",
       "        \n",
       "\n",
       "        marker_4b3e83d3a9ac47290d151b2b2cd8c2f2.bindPopup(popup_63ab88c81e6b06d0cb5506be4e442e04)\n",
       "        ;\n",
       "\n",
       "        \n",
       "    \n",
       "    \n",
       "            var marker_88601ba5a32cb8b91c331dfd541dcfbd = L.marker(\n",
       "                [53.41291, -8.24389],\n",
       "                {}\n",
       "            ).addTo(map_77757f83097643e2fa22372218d285f6);\n",
       "        \n",
       "    \n",
       "        var popup_f44f77191ec079395445f79addffaca4 = L.popup({&quot;maxWidth&quot;: &quot;100%&quot;});\n",
       "\n",
       "        \n",
       "            \n",
       "                var html_0335b1ef2b3346b2116438739d7eab2c = $(`&lt;div id=&quot;html_0335b1ef2b3346b2116438739d7eab2c&quot; style=&quot;width: 100.0%; height: 100.0%;&quot;&gt;Ireland&lt;/div&gt;`)[0];\n",
       "                popup_f44f77191ec079395445f79addffaca4.setContent(html_0335b1ef2b3346b2116438739d7eab2c);\n",
       "            \n",
       "        \n",
       "\n",
       "        marker_88601ba5a32cb8b91c331dfd541dcfbd.bindPopup(popup_f44f77191ec079395445f79addffaca4)\n",
       "        ;\n",
       "\n",
       "        \n",
       "    \n",
       "    \n",
       "            var marker_5e96182775bec9d2686f08b4cb46278c = L.marker(\n",
       "                [31.046051, 34.851612],\n",
       "                {}\n",
       "            ).addTo(map_77757f83097643e2fa22372218d285f6);\n",
       "        \n",
       "    \n",
       "        var popup_299ab7648e20277156f43a646ef9536f = L.popup({&quot;maxWidth&quot;: &quot;100%&quot;});\n",
       "\n",
       "        \n",
       "            \n",
       "                var html_6b069111b06cf685c1348e39cd4b7e19 = $(`&lt;div id=&quot;html_6b069111b06cf685c1348e39cd4b7e19&quot; style=&quot;width: 100.0%; height: 100.0%;&quot;&gt;Israel&lt;/div&gt;`)[0];\n",
       "                popup_299ab7648e20277156f43a646ef9536f.setContent(html_6b069111b06cf685c1348e39cd4b7e19);\n",
       "            \n",
       "        \n",
       "\n",
       "        marker_5e96182775bec9d2686f08b4cb46278c.bindPopup(popup_299ab7648e20277156f43a646ef9536f)\n",
       "        ;\n",
       "\n",
       "        \n",
       "    \n",
       "    \n",
       "            var marker_01ab8e28212c649cf424b6b6630c447e = L.marker(\n",
       "                [41.87194, 12.56738],\n",
       "                {}\n",
       "            ).addTo(map_77757f83097643e2fa22372218d285f6);\n",
       "        \n",
       "    \n",
       "        var popup_a00b02f24559846e053ead6dd713e881 = L.popup({&quot;maxWidth&quot;: &quot;100%&quot;});\n",
       "\n",
       "        \n",
       "            \n",
       "                var html_aa7e6483f4bd5b1dea1a67039b8b5e87 = $(`&lt;div id=&quot;html_aa7e6483f4bd5b1dea1a67039b8b5e87&quot; style=&quot;width: 100.0%; height: 100.0%;&quot;&gt;Italy&lt;/div&gt;`)[0];\n",
       "                popup_a00b02f24559846e053ead6dd713e881.setContent(html_aa7e6483f4bd5b1dea1a67039b8b5e87);\n",
       "            \n",
       "        \n",
       "\n",
       "        marker_01ab8e28212c649cf424b6b6630c447e.bindPopup(popup_a00b02f24559846e053ead6dd713e881)\n",
       "        ;\n",
       "\n",
       "        \n",
       "    \n",
       "    \n",
       "            var marker_11f31ffc2ae886ad5172a0e461b52621 = L.marker(\n",
       "                [36.204824, 138.252924],\n",
       "                {}\n",
       "            ).addTo(map_77757f83097643e2fa22372218d285f6);\n",
       "        \n",
       "    \n",
       "        var popup_48e3ce716b97fed25a696fa28a31c7ea = L.popup({&quot;maxWidth&quot;: &quot;100%&quot;});\n",
       "\n",
       "        \n",
       "            \n",
       "                var html_937e80ac341fc28f08268e5382fd0c76 = $(`&lt;div id=&quot;html_937e80ac341fc28f08268e5382fd0c76&quot; style=&quot;width: 100.0%; height: 100.0%;&quot;&gt;Japan&lt;/div&gt;`)[0];\n",
       "                popup_48e3ce716b97fed25a696fa28a31c7ea.setContent(html_937e80ac341fc28f08268e5382fd0c76);\n",
       "            \n",
       "        \n",
       "\n",
       "        marker_11f31ffc2ae886ad5172a0e461b52621.bindPopup(popup_48e3ce716b97fed25a696fa28a31c7ea)\n",
       "        ;\n",
       "\n",
       "        \n",
       "    \n",
       "    \n",
       "            var marker_4c592a549e0b5dd94caaa2e0507a4d5c = L.marker(\n",
       "                [29.31166, 47.481766],\n",
       "                {}\n",
       "            ).addTo(map_77757f83097643e2fa22372218d285f6);\n",
       "        \n",
       "    \n",
       "        var popup_0c3835ab725f1a3ae0d24d8785965818 = L.popup({&quot;maxWidth&quot;: &quot;100%&quot;});\n",
       "\n",
       "        \n",
       "            \n",
       "                var html_ee171ec210f8e9b81ede8546d3d1780b = $(`&lt;div id=&quot;html_ee171ec210f8e9b81ede8546d3d1780b&quot; style=&quot;width: 100.0%; height: 100.0%;&quot;&gt;Kuwait&lt;/div&gt;`)[0];\n",
       "                popup_0c3835ab725f1a3ae0d24d8785965818.setContent(html_ee171ec210f8e9b81ede8546d3d1780b);\n",
       "            \n",
       "        \n",
       "\n",
       "        marker_4c592a549e0b5dd94caaa2e0507a4d5c.bindPopup(popup_0c3835ab725f1a3ae0d24d8785965818)\n",
       "        ;\n",
       "\n",
       "        \n",
       "    \n",
       "    \n",
       "            var marker_9d3b4cf8ac709cfb50a7d5213b4d4685 = L.marker(\n",
       "                [35.937496, 14.375416],\n",
       "                {}\n",
       "            ).addTo(map_77757f83097643e2fa22372218d285f6);\n",
       "        \n",
       "    \n",
       "        var popup_3eb66561f620b67b86afd0e73bceacf6 = L.popup({&quot;maxWidth&quot;: &quot;100%&quot;});\n",
       "\n",
       "        \n",
       "            \n",
       "                var html_b4cd45b375232c2ca5326b323b9a624f = $(`&lt;div id=&quot;html_b4cd45b375232c2ca5326b323b9a624f&quot; style=&quot;width: 100.0%; height: 100.0%;&quot;&gt;Malta&lt;/div&gt;`)[0];\n",
       "                popup_3eb66561f620b67b86afd0e73bceacf6.setContent(html_b4cd45b375232c2ca5326b323b9a624f);\n",
       "            \n",
       "        \n",
       "\n",
       "        marker_9d3b4cf8ac709cfb50a7d5213b4d4685.bindPopup(popup_3eb66561f620b67b86afd0e73bceacf6)\n",
       "        ;\n",
       "\n",
       "        \n",
       "    \n",
       "    \n",
       "            var marker_b5241bb1c89b7e9d30e4e7a8a0bd7f25 = L.marker(\n",
       "                [52.132633, 5.291266],\n",
       "                {}\n",
       "            ).addTo(map_77757f83097643e2fa22372218d285f6);\n",
       "        \n",
       "    \n",
       "        var popup_93544ef43d0f98fe3dcd0491ef6b8abb = L.popup({&quot;maxWidth&quot;: &quot;100%&quot;});\n",
       "\n",
       "        \n",
       "            \n",
       "                var html_f4fecd2a6033b53e97439b00893058e4 = $(`&lt;div id=&quot;html_f4fecd2a6033b53e97439b00893058e4&quot; style=&quot;width: 100.0%; height: 100.0%;&quot;&gt;Netherlands&lt;/div&gt;`)[0];\n",
       "                popup_93544ef43d0f98fe3dcd0491ef6b8abb.setContent(html_f4fecd2a6033b53e97439b00893058e4);\n",
       "            \n",
       "        \n",
       "\n",
       "        marker_b5241bb1c89b7e9d30e4e7a8a0bd7f25.bindPopup(popup_93544ef43d0f98fe3dcd0491ef6b8abb)\n",
       "        ;\n",
       "\n",
       "        \n",
       "    \n",
       "    \n",
       "            var marker_faa76efb5cd2ee5207b3d34034920a96 = L.marker(\n",
       "                [-40.900557, 174.885971],\n",
       "                {}\n",
       "            ).addTo(map_77757f83097643e2fa22372218d285f6);\n",
       "        \n",
       "    \n",
       "        var popup_a552795899205738dad219d8a325ffa0 = L.popup({&quot;maxWidth&quot;: &quot;100%&quot;});\n",
       "\n",
       "        \n",
       "            \n",
       "                var html_f8cbece580941b1ea942698e4af5139a = $(`&lt;div id=&quot;html_f8cbece580941b1ea942698e4af5139a&quot; style=&quot;width: 100.0%; height: 100.0%;&quot;&gt;New Zealand&lt;/div&gt;`)[0];\n",
       "                popup_a552795899205738dad219d8a325ffa0.setContent(html_f8cbece580941b1ea942698e4af5139a);\n",
       "            \n",
       "        \n",
       "\n",
       "        marker_faa76efb5cd2ee5207b3d34034920a96.bindPopup(popup_a552795899205738dad219d8a325ffa0)\n",
       "        ;\n",
       "\n",
       "        \n",
       "    \n",
       "    \n",
       "            var marker_7e16656cd02b90751328b42107ff6c5b = L.marker(\n",
       "                [21.512583, 55.923255],\n",
       "                {}\n",
       "            ).addTo(map_77757f83097643e2fa22372218d285f6);\n",
       "        \n",
       "    \n",
       "        var popup_30824059ac88000229eada8ae9b60137 = L.popup({&quot;maxWidth&quot;: &quot;100%&quot;});\n",
       "\n",
       "        \n",
       "            \n",
       "                var html_4436c02a53fde8234b307bcccef8def9 = $(`&lt;div id=&quot;html_4436c02a53fde8234b307bcccef8def9&quot; style=&quot;width: 100.0%; height: 100.0%;&quot;&gt;Oman&lt;/div&gt;`)[0];\n",
       "                popup_30824059ac88000229eada8ae9b60137.setContent(html_4436c02a53fde8234b307bcccef8def9);\n",
       "            \n",
       "        \n",
       "\n",
       "        marker_7e16656cd02b90751328b42107ff6c5b.bindPopup(popup_30824059ac88000229eada8ae9b60137)\n",
       "        ;\n",
       "\n",
       "        \n",
       "    \n",
       "    \n",
       "            var marker_b0eccbcbb460a0d7ff83e8000f50d165 = L.marker(\n",
       "                [39.399872, -8.224454],\n",
       "                {}\n",
       "            ).addTo(map_77757f83097643e2fa22372218d285f6);\n",
       "        \n",
       "    \n",
       "        var popup_7cc35effba8f542c6e012e54966527d3 = L.popup({&quot;maxWidth&quot;: &quot;100%&quot;});\n",
       "\n",
       "        \n",
       "            \n",
       "                var html_3a4f191f5e337fd015f32f493c20f644 = $(`&lt;div id=&quot;html_3a4f191f5e337fd015f32f493c20f644&quot; style=&quot;width: 100.0%; height: 100.0%;&quot;&gt;Portugal&lt;/div&gt;`)[0];\n",
       "                popup_7cc35effba8f542c6e012e54966527d3.setContent(html_3a4f191f5e337fd015f32f493c20f644);\n",
       "            \n",
       "        \n",
       "\n",
       "        marker_b0eccbcbb460a0d7ff83e8000f50d165.bindPopup(popup_7cc35effba8f542c6e012e54966527d3)\n",
       "        ;\n",
       "\n",
       "        \n",
       "    \n",
       "    \n",
       "            var marker_79145d95846d18affca6ab15f0acdb5b = L.marker(\n",
       "                [23.885942, 45.079162],\n",
       "                {}\n",
       "            ).addTo(map_77757f83097643e2fa22372218d285f6);\n",
       "        \n",
       "    \n",
       "        var popup_4f8f77af76c511c4511deed6b88e608c = L.popup({&quot;maxWidth&quot;: &quot;100%&quot;});\n",
       "\n",
       "        \n",
       "            \n",
       "                var html_2404e95740741f89d9e45ac615a87162 = $(`&lt;div id=&quot;html_2404e95740741f89d9e45ac615a87162&quot; style=&quot;width: 100.0%; height: 100.0%;&quot;&gt;Saudi Arabia&lt;/div&gt;`)[0];\n",
       "                popup_4f8f77af76c511c4511deed6b88e608c.setContent(html_2404e95740741f89d9e45ac615a87162);\n",
       "            \n",
       "        \n",
       "\n",
       "        marker_79145d95846d18affca6ab15f0acdb5b.bindPopup(popup_4f8f77af76c511c4511deed6b88e608c)\n",
       "        ;\n",
       "\n",
       "        \n",
       "    \n",
       "    \n",
       "            var marker_e55bb165a7a54dfe3cf98ace2cf1039a = L.marker(\n",
       "                [1.352083, 103.819836],\n",
       "                {}\n",
       "            ).addTo(map_77757f83097643e2fa22372218d285f6);\n",
       "        \n",
       "    \n",
       "        var popup_b038fea4e41d85efea9312411c976b79 = L.popup({&quot;maxWidth&quot;: &quot;100%&quot;});\n",
       "\n",
       "        \n",
       "            \n",
       "                var html_24bbe21a0112ff0372ce0b71ebc28bae = $(`&lt;div id=&quot;html_24bbe21a0112ff0372ce0b71ebc28bae&quot; style=&quot;width: 100.0%; height: 100.0%;&quot;&gt;Singapore&lt;/div&gt;`)[0];\n",
       "                popup_b038fea4e41d85efea9312411c976b79.setContent(html_24bbe21a0112ff0372ce0b71ebc28bae);\n",
       "            \n",
       "        \n",
       "\n",
       "        marker_e55bb165a7a54dfe3cf98ace2cf1039a.bindPopup(popup_b038fea4e41d85efea9312411c976b79)\n",
       "        ;\n",
       "\n",
       "        \n",
       "    \n",
       "    \n",
       "            var marker_5bf7367ebc233b79d4bf5447903da2aa = L.marker(\n",
       "                [46.151241, 14.995463],\n",
       "                {}\n",
       "            ).addTo(map_77757f83097643e2fa22372218d285f6);\n",
       "        \n",
       "    \n",
       "        var popup_0d08ab664c3b724a06a20181be62eced = L.popup({&quot;maxWidth&quot;: &quot;100%&quot;});\n",
       "\n",
       "        \n",
       "            \n",
       "                var html_115a7c113d8245d8343053e73597d9f4 = $(`&lt;div id=&quot;html_115a7c113d8245d8343053e73597d9f4&quot; style=&quot;width: 100.0%; height: 100.0%;&quot;&gt;Slovenia&lt;/div&gt;`)[0];\n",
       "                popup_0d08ab664c3b724a06a20181be62eced.setContent(html_115a7c113d8245d8343053e73597d9f4);\n",
       "            \n",
       "        \n",
       "\n",
       "        marker_5bf7367ebc233b79d4bf5447903da2aa.bindPopup(popup_0d08ab664c3b724a06a20181be62eced)\n",
       "        ;\n",
       "\n",
       "        \n",
       "    \n",
       "    \n",
       "            var marker_308d18ec3c50348e7fbdde2998dd14c8 = L.marker(\n",
       "                [35.907757, 127.766922],\n",
       "                {}\n",
       "            ).addTo(map_77757f83097643e2fa22372218d285f6);\n",
       "        \n",
       "    \n",
       "        var popup_b1b3f759abcbbd9ddab252caec159a0f = L.popup({&quot;maxWidth&quot;: &quot;100%&quot;});\n",
       "\n",
       "        \n",
       "            \n",
       "                var html_7da39069bcbe35622e2149d627151282 = $(`&lt;div id=&quot;html_7da39069bcbe35622e2149d627151282&quot; style=&quot;width: 100.0%; height: 100.0%;&quot;&gt;South Korea&lt;/div&gt;`)[0];\n",
       "                popup_b1b3f759abcbbd9ddab252caec159a0f.setContent(html_7da39069bcbe35622e2149d627151282);\n",
       "            \n",
       "        \n",
       "\n",
       "        marker_308d18ec3c50348e7fbdde2998dd14c8.bindPopup(popup_b1b3f759abcbbd9ddab252caec159a0f)\n",
       "        ;\n",
       "\n",
       "        \n",
       "    \n",
       "    \n",
       "            var marker_f8aa3717a68e852dfe46ae1bf8dc1070 = L.marker(\n",
       "                [40.463667, -3.74922],\n",
       "                {}\n",
       "            ).addTo(map_77757f83097643e2fa22372218d285f6);\n",
       "        \n",
       "    \n",
       "        var popup_ad8c1318087b7d69360a1bffeda31c8d = L.popup({&quot;maxWidth&quot;: &quot;100%&quot;});\n",
       "\n",
       "        \n",
       "            \n",
       "                var html_2e2b4e38e821791f5337d2211fbee8cb = $(`&lt;div id=&quot;html_2e2b4e38e821791f5337d2211fbee8cb&quot; style=&quot;width: 100.0%; height: 100.0%;&quot;&gt;Spain&lt;/div&gt;`)[0];\n",
       "                popup_ad8c1318087b7d69360a1bffeda31c8d.setContent(html_2e2b4e38e821791f5337d2211fbee8cb);\n",
       "            \n",
       "        \n",
       "\n",
       "        marker_f8aa3717a68e852dfe46ae1bf8dc1070.bindPopup(popup_ad8c1318087b7d69360a1bffeda31c8d)\n",
       "        ;\n",
       "\n",
       "        \n",
       "    \n",
       "    \n",
       "            var marker_ec13ded434eeecec0e4561041bba7a55 = L.marker(\n",
       "                [60.128161, 18.643501],\n",
       "                {}\n",
       "            ).addTo(map_77757f83097643e2fa22372218d285f6);\n",
       "        \n",
       "    \n",
       "        var popup_1f70ab8a1afbd01a40817e820adf0fd8 = L.popup({&quot;maxWidth&quot;: &quot;100%&quot;});\n",
       "\n",
       "        \n",
       "            \n",
       "                var html_cfba1d17c76e8593c7fac351cd3c12c2 = $(`&lt;div id=&quot;html_cfba1d17c76e8593c7fac351cd3c12c2&quot; style=&quot;width: 100.0%; height: 100.0%;&quot;&gt;Sweden&lt;/div&gt;`)[0];\n",
       "                popup_1f70ab8a1afbd01a40817e820adf0fd8.setContent(html_cfba1d17c76e8593c7fac351cd3c12c2);\n",
       "            \n",
       "        \n",
       "\n",
       "        marker_ec13ded434eeecec0e4561041bba7a55.bindPopup(popup_1f70ab8a1afbd01a40817e820adf0fd8)\n",
       "        ;\n",
       "\n",
       "        \n",
       "    \n",
       "    \n",
       "            var marker_e14496458e285ce9c1c6bfde63f10190 = L.marker(\n",
       "                [23.424076, 53.847818],\n",
       "                {}\n",
       "            ).addTo(map_77757f83097643e2fa22372218d285f6);\n",
       "        \n",
       "    \n",
       "        var popup_c9da1ce68049c6f3bf9ccffd215ecc10 = L.popup({&quot;maxWidth&quot;: &quot;100%&quot;});\n",
       "\n",
       "        \n",
       "            \n",
       "                var html_ab7856f0018f27752197f3d9984b1b6e = $(`&lt;div id=&quot;html_ab7856f0018f27752197f3d9984b1b6e&quot; style=&quot;width: 100.0%; height: 100.0%;&quot;&gt;United Arab Emirates&lt;/div&gt;`)[0];\n",
       "                popup_c9da1ce68049c6f3bf9ccffd215ecc10.setContent(html_ab7856f0018f27752197f3d9984b1b6e);\n",
       "            \n",
       "        \n",
       "\n",
       "        marker_e14496458e285ce9c1c6bfde63f10190.bindPopup(popup_c9da1ce68049c6f3bf9ccffd215ecc10)\n",
       "        ;\n",
       "\n",
       "        \n",
       "    \n",
       "    \n",
       "            var marker_7193d9ff0f3e7fe469890f8328037f20 = L.marker(\n",
       "                [55.378051, -3.435973],\n",
       "                {}\n",
       "            ).addTo(map_77757f83097643e2fa22372218d285f6);\n",
       "        \n",
       "    \n",
       "        var popup_b21784f77a4f0deacbdfaca2e7138833 = L.popup({&quot;maxWidth&quot;: &quot;100%&quot;});\n",
       "\n",
       "        \n",
       "            \n",
       "                var html_9c7c015fbf4fdbedf3b2de59800033ee = $(`&lt;div id=&quot;html_9c7c015fbf4fdbedf3b2de59800033ee&quot; style=&quot;width: 100.0%; height: 100.0%;&quot;&gt;United Kingdom&lt;/div&gt;`)[0];\n",
       "                popup_b21784f77a4f0deacbdfaca2e7138833.setContent(html_9c7c015fbf4fdbedf3b2de59800033ee);\n",
       "            \n",
       "        \n",
       "\n",
       "        marker_7193d9ff0f3e7fe469890f8328037f20.bindPopup(popup_b21784f77a4f0deacbdfaca2e7138833)\n",
       "        ;\n",
       "\n",
       "        \n",
       "    \n",
       "    \n",
       "            var marker_d5ef7de80f3c01d1b87dbb90bd1721db = L.marker(\n",
       "                [37.09024, -95.712891],\n",
       "                {}\n",
       "            ).addTo(map_77757f83097643e2fa22372218d285f6);\n",
       "        \n",
       "    \n",
       "        var popup_4cd6362bc3e54ebd9b218886f09c51a0 = L.popup({&quot;maxWidth&quot;: &quot;100%&quot;});\n",
       "\n",
       "        \n",
       "            \n",
       "                var html_9422fb997af92e9598103a3fa493b6e8 = $(`&lt;div id=&quot;html_9422fb997af92e9598103a3fa493b6e8&quot; style=&quot;width: 100.0%; height: 100.0%;&quot;&gt;United States&lt;/div&gt;`)[0];\n",
       "                popup_4cd6362bc3e54ebd9b218886f09c51a0.setContent(html_9422fb997af92e9598103a3fa493b6e8);\n",
       "            \n",
       "        \n",
       "\n",
       "        marker_d5ef7de80f3c01d1b87dbb90bd1721db.bindPopup(popup_4cd6362bc3e54ebd9b218886f09c51a0)\n",
       "        ;\n",
       "\n",
       "        \n",
       "    \n",
       "&lt;/script&gt;\n",
       "&lt;/html&gt;\" style=\"position:absolute;width:100%;height:100%;left:0;top:0;border:none !important;\" allowfullscreen webkitallowfullscreen mozallowfullscreen></iframe></div></div>"
      ],
      "text/plain": [
       "<folium.folium.Map at 0x3082c37d0>"
      ]
     },
     "execution_count": 88,
     "metadata": {},
     "output_type": "execute_result"
    }
   ],
   "source": [
    "make_map(fecility_economy0)"
   ]
  },
  {
   "cell_type": "code",
   "execution_count": 63,
   "id": "5da5955d-1ad1-4220-bef1-6a73a4072487",
   "metadata": {},
   "outputs": [
    {
     "data": {
      "text/html": [
       "<div>\n",
       "<style scoped>\n",
       "    .dataframe tbody tr th:only-of-type {\n",
       "        vertical-align: middle;\n",
       "    }\n",
       "\n",
       "    .dataframe tbody tr th {\n",
       "        vertical-align: top;\n",
       "    }\n",
       "\n",
       "    .dataframe thead th {\n",
       "        text-align: right;\n",
       "    }\n",
       "</style>\n",
       "<table border=\"1\" class=\"dataframe\">\n",
       "  <thead>\n",
       "    <tr style=\"text-align: right;\">\n",
       "      <th></th>\n",
       "      <th>country</th>\n",
       "      <th>child_mort</th>\n",
       "      <th>exports</th>\n",
       "      <th>health</th>\n",
       "      <th>imports</th>\n",
       "      <th>income</th>\n",
       "      <th>inflation</th>\n",
       "      <th>life_expec</th>\n",
       "      <th>total_fer</th>\n",
       "      <th>gdpp</th>\n",
       "      <th>region_1</th>\n",
       "      <th>region_2</th>\n",
       "      <th>continent</th>\n",
       "      <th>latitude</th>\n",
       "      <th>longitude</th>\n",
       "      <th>label_child</th>\n",
       "      <th>log_gdpp</th>\n",
       "      <th>log_income</th>\n",
       "      <th>label_fertility_economy</th>\n",
       "    </tr>\n",
       "  </thead>\n",
       "  <tbody>\n",
       "    <tr>\n",
       "      <th>138</th>\n",
       "      <td>South Korea</td>\n",
       "      <td>4.1</td>\n",
       "      <td>49.4</td>\n",
       "      <td>6.93</td>\n",
       "      <td>46.2</td>\n",
       "      <td>30400.0</td>\n",
       "      <td>3.16</td>\n",
       "      <td>80.1</td>\n",
       "      <td>1.23</td>\n",
       "      <td>22100.0</td>\n",
       "      <td>Eastern Asia</td>\n",
       "      <td>NaN</td>\n",
       "      <td>Asia</td>\n",
       "      <td>35.907757</td>\n",
       "      <td>127.766922</td>\n",
       "      <td>0</td>\n",
       "      <td>10.003333</td>\n",
       "      <td>10.322198</td>\n",
       "      <td>0</td>\n",
       "    </tr>\n",
       "  </tbody>\n",
       "</table>\n",
       "</div>"
      ],
      "text/plain": [
       "         country  child_mort  exports  health  imports   income  inflation  \\\n",
       "138  South Korea         4.1     49.4    6.93     46.2  30400.0       3.16   \n",
       "\n",
       "     life_expec  total_fer     gdpp      region_1 region_2 continent  \\\n",
       "138        80.1       1.23  22100.0  Eastern Asia      NaN      Asia   \n",
       "\n",
       "      latitude   longitude  label_child   log_gdpp  log_income  \\\n",
       "138  35.907757  127.766922            0  10.003333   10.322198   \n",
       "\n",
       "     label_fertility_economy  \n",
       "138                        0  "
      ]
     },
     "execution_count": 63,
     "metadata": {},
     "output_type": "execute_result"
    }
   ],
   "source": [
    "fecility_economy0[fecility_economy0['country'] == 'South Korea']"
   ]
  },
  {
   "cell_type": "code",
   "execution_count": 64,
   "id": "79a2fc07-e037-4c4c-b2b6-e37161cdddc3",
   "metadata": {},
   "outputs": [
    {
     "data": {
      "text/plain": [
       "<Axes: xlabel='inflation', ylabel='child_mort'>"
      ]
     },
     "execution_count": 64,
     "metadata": {},
     "output_type": "execute_result"
    },
    {
     "data": {
      "image/png": "[encoded data removed]",
      "text/plain": [
       "<Figure size 640x480 with 1 Axes>"
      ]
     },
     "metadata": {},
     "output_type": "display_data"
    }
   ],
   "source": [
    "fecility_economy0.plot(\n",
    "    kind = \"scatter\",\n",
    "    x = \"inflation\",\n",
    "    y = \"child_mort\")"
   ]
  },
  {
   "cell_type": "code",
   "execution_count": null,
   "id": "d4f669a0-0274-4b45-b861-d6780a81c2d3",
   "metadata": {},
   "outputs": [],
   "source": []
  },
  {
   "cell_type": "code",
   "execution_count": null,
   "id": "499a975a-5e4e-404b-b91c-82e51a7e5047",
   "metadata": {},
   "outputs": [],
   "source": []
  },
  {
   "cell_type": "code",
   "execution_count": null,
   "id": "2cde84a8-d315-4a21-b50a-6d1bb3504bf4",
   "metadata": {},
   "outputs": [],
   "source": []
  },
  {
   "cell_type": "code",
   "execution_count": null,
   "id": "d6cad433-b264-479f-9ecc-95a959d543e1",
   "metadata": {},
   "outputs": [],
   "source": []
  }
 ],
 "metadata": {
  "kernelspec": {
   "display_name": "Python 3 (ipykernel)",
   "language": "python",
   "name": "python3"
  },
  "language_info": {
   "codemirror_mode": {
    "name": "ipython",
    "version": 3
   },
   "file_extension": ".py",
   "mimetype": "text/x-python",
   "name": "python",
   "nbconvert_exporter": "python",
   "pygments_lexer": "ipython3",
   "version": "3.11.5"
  }
 },
 "nbformat": 4,
 "nbformat_minor": 5
}
